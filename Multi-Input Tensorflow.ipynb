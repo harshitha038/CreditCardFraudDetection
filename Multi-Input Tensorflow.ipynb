{
 "cells": [
  {
   "cell_type": "code",
   "execution_count": 1,
   "id": "e79aee65",
   "metadata": {},
   "outputs": [],
   "source": [
    "import numpy as np\n",
    "import pandas as pd\n",
    "\n",
    "import matplotlib.pyplot as plt\n",
    "import seaborn as sns\n",
    "\n",
    "from sklearn.preprocessing import StandardScaler\n",
    "from sklearn.model_selection import train_test_split\n",
    "\n",
    "import tensorflow as tf\n",
    "\n",
    "from sklearn.metrics import confusion_matrix, classification_report"
   ]
  },
  {
   "cell_type": "code",
   "execution_count": 2,
   "id": "73200bb6",
   "metadata": {},
   "outputs": [],
   "source": [
    "data = pd.read_csv('PS_20174392719_1491204439457_log.csv', nrows=50000)"
   ]
  },
  {
   "cell_type": "code",
   "execution_count": 3,
   "id": "bf870f23",
   "metadata": {},
   "outputs": [
    {
     "data": {
      "text/html": [
       "<div>\n",
       "<style scoped>\n",
       "    .dataframe tbody tr th:only-of-type {\n",
       "        vertical-align: middle;\n",
       "    }\n",
       "\n",
       "    .dataframe tbody tr th {\n",
       "        vertical-align: top;\n",
       "    }\n",
       "\n",
       "    .dataframe thead th {\n",
       "        text-align: right;\n",
       "    }\n",
       "</style>\n",
       "<table border=\"1\" class=\"dataframe\">\n",
       "  <thead>\n",
       "    <tr style=\"text-align: right;\">\n",
       "      <th></th>\n",
       "      <th>step</th>\n",
       "      <th>type</th>\n",
       "      <th>amount</th>\n",
       "      <th>nameOrig</th>\n",
       "      <th>oldbalanceOrg</th>\n",
       "      <th>newbalanceOrig</th>\n",
       "      <th>nameDest</th>\n",
       "      <th>oldbalanceDest</th>\n",
       "      <th>newbalanceDest</th>\n",
       "      <th>isFraud</th>\n",
       "      <th>isFlaggedFraud</th>\n",
       "    </tr>\n",
       "  </thead>\n",
       "  <tbody>\n",
       "    <tr>\n",
       "      <th>0</th>\n",
       "      <td>1</td>\n",
       "      <td>PAYMENT</td>\n",
       "      <td>9839.64</td>\n",
       "      <td>C1231006815</td>\n",
       "      <td>170136.00</td>\n",
       "      <td>160296.36</td>\n",
       "      <td>M1979787155</td>\n",
       "      <td>0.0</td>\n",
       "      <td>0.0</td>\n",
       "      <td>0</td>\n",
       "      <td>0</td>\n",
       "    </tr>\n",
       "    <tr>\n",
       "      <th>1</th>\n",
       "      <td>1</td>\n",
       "      <td>PAYMENT</td>\n",
       "      <td>1864.28</td>\n",
       "      <td>C1666544295</td>\n",
       "      <td>21249.00</td>\n",
       "      <td>19384.72</td>\n",
       "      <td>M2044282225</td>\n",
       "      <td>0.0</td>\n",
       "      <td>0.0</td>\n",
       "      <td>0</td>\n",
       "      <td>0</td>\n",
       "    </tr>\n",
       "    <tr>\n",
       "      <th>2</th>\n",
       "      <td>1</td>\n",
       "      <td>TRANSFER</td>\n",
       "      <td>181.00</td>\n",
       "      <td>C1305486145</td>\n",
       "      <td>181.00</td>\n",
       "      <td>0.00</td>\n",
       "      <td>C553264065</td>\n",
       "      <td>0.0</td>\n",
       "      <td>0.0</td>\n",
       "      <td>1</td>\n",
       "      <td>0</td>\n",
       "    </tr>\n",
       "    <tr>\n",
       "      <th>3</th>\n",
       "      <td>1</td>\n",
       "      <td>CASH_OUT</td>\n",
       "      <td>181.00</td>\n",
       "      <td>C840083671</td>\n",
       "      <td>181.00</td>\n",
       "      <td>0.00</td>\n",
       "      <td>C38997010</td>\n",
       "      <td>21182.0</td>\n",
       "      <td>0.0</td>\n",
       "      <td>1</td>\n",
       "      <td>0</td>\n",
       "    </tr>\n",
       "    <tr>\n",
       "      <th>4</th>\n",
       "      <td>1</td>\n",
       "      <td>PAYMENT</td>\n",
       "      <td>11668.14</td>\n",
       "      <td>C2048537720</td>\n",
       "      <td>41554.00</td>\n",
       "      <td>29885.86</td>\n",
       "      <td>M1230701703</td>\n",
       "      <td>0.0</td>\n",
       "      <td>0.0</td>\n",
       "      <td>0</td>\n",
       "      <td>0</td>\n",
       "    </tr>\n",
       "    <tr>\n",
       "      <th>...</th>\n",
       "      <td>...</td>\n",
       "      <td>...</td>\n",
       "      <td>...</td>\n",
       "      <td>...</td>\n",
       "      <td>...</td>\n",
       "      <td>...</td>\n",
       "      <td>...</td>\n",
       "      <td>...</td>\n",
       "      <td>...</td>\n",
       "      <td>...</td>\n",
       "      <td>...</td>\n",
       "    </tr>\n",
       "    <tr>\n",
       "      <th>49995</th>\n",
       "      <td>9</td>\n",
       "      <td>PAYMENT</td>\n",
       "      <td>1322.91</td>\n",
       "      <td>C1402545110</td>\n",
       "      <td>1208457.61</td>\n",
       "      <td>1207134.71</td>\n",
       "      <td>M578074960</td>\n",
       "      <td>0.0</td>\n",
       "      <td>0.0</td>\n",
       "      <td>0</td>\n",
       "      <td>0</td>\n",
       "    </tr>\n",
       "    <tr>\n",
       "      <th>49996</th>\n",
       "      <td>9</td>\n",
       "      <td>PAYMENT</td>\n",
       "      <td>6900.48</td>\n",
       "      <td>C517372485</td>\n",
       "      <td>1207134.71</td>\n",
       "      <td>1200234.22</td>\n",
       "      <td>M1854114037</td>\n",
       "      <td>0.0</td>\n",
       "      <td>0.0</td>\n",
       "      <td>0</td>\n",
       "      <td>0</td>\n",
       "    </tr>\n",
       "    <tr>\n",
       "      <th>49997</th>\n",
       "      <td>9</td>\n",
       "      <td>PAYMENT</td>\n",
       "      <td>17399.12</td>\n",
       "      <td>C1948160352</td>\n",
       "      <td>1200234.22</td>\n",
       "      <td>1182835.10</td>\n",
       "      <td>M1940330634</td>\n",
       "      <td>0.0</td>\n",
       "      <td>0.0</td>\n",
       "      <td>0</td>\n",
       "      <td>0</td>\n",
       "    </tr>\n",
       "    <tr>\n",
       "      <th>49998</th>\n",
       "      <td>9</td>\n",
       "      <td>PAYMENT</td>\n",
       "      <td>5485.20</td>\n",
       "      <td>C1586381033</td>\n",
       "      <td>1182835.10</td>\n",
       "      <td>1177349.90</td>\n",
       "      <td>M741912557</td>\n",
       "      <td>0.0</td>\n",
       "      <td>0.0</td>\n",
       "      <td>0</td>\n",
       "      <td>0</td>\n",
       "    </tr>\n",
       "    <tr>\n",
       "      <th>49999</th>\n",
       "      <td>9</td>\n",
       "      <td>PAYMENT</td>\n",
       "      <td>629.44</td>\n",
       "      <td>C741191323</td>\n",
       "      <td>1177349.90</td>\n",
       "      <td>1176720.46</td>\n",
       "      <td>M1728418012</td>\n",
       "      <td>0.0</td>\n",
       "      <td>0.0</td>\n",
       "      <td>0</td>\n",
       "      <td>0</td>\n",
       "    </tr>\n",
       "  </tbody>\n",
       "</table>\n",
       "<p>50000 rows × 11 columns</p>\n",
       "</div>"
      ],
      "text/plain": [
       "       step      type    amount     nameOrig  oldbalanceOrg  newbalanceOrig  \\\n",
       "0         1   PAYMENT   9839.64  C1231006815      170136.00       160296.36   \n",
       "1         1   PAYMENT   1864.28  C1666544295       21249.00        19384.72   \n",
       "2         1  TRANSFER    181.00  C1305486145         181.00            0.00   \n",
       "3         1  CASH_OUT    181.00   C840083671         181.00            0.00   \n",
       "4         1   PAYMENT  11668.14  C2048537720       41554.00        29885.86   \n",
       "...     ...       ...       ...          ...            ...             ...   \n",
       "49995     9   PAYMENT   1322.91  C1402545110     1208457.61      1207134.71   \n",
       "49996     9   PAYMENT   6900.48   C517372485     1207134.71      1200234.22   \n",
       "49997     9   PAYMENT  17399.12  C1948160352     1200234.22      1182835.10   \n",
       "49998     9   PAYMENT   5485.20  C1586381033     1182835.10      1177349.90   \n",
       "49999     9   PAYMENT    629.44   C741191323     1177349.90      1176720.46   \n",
       "\n",
       "          nameDest  oldbalanceDest  newbalanceDest  isFraud  isFlaggedFraud  \n",
       "0      M1979787155             0.0             0.0        0               0  \n",
       "1      M2044282225             0.0             0.0        0               0  \n",
       "2       C553264065             0.0             0.0        1               0  \n",
       "3        C38997010         21182.0             0.0        1               0  \n",
       "4      M1230701703             0.0             0.0        0               0  \n",
       "...            ...             ...             ...      ...             ...  \n",
       "49995   M578074960             0.0             0.0        0               0  \n",
       "49996  M1854114037             0.0             0.0        0               0  \n",
       "49997  M1940330634             0.0             0.0        0               0  \n",
       "49998   M741912557             0.0             0.0        0               0  \n",
       "49999  M1728418012             0.0             0.0        0               0  \n",
       "\n",
       "[50000 rows x 11 columns]"
      ]
     },
     "execution_count": 3,
     "metadata": {},
     "output_type": "execute_result"
    }
   ],
   "source": [
    "data"
   ]
  },
  {
   "cell_type": "code",
   "execution_count": 4,
   "id": "5b3098c3",
   "metadata": {},
   "outputs": [
    {
     "data": {
      "text/plain": [
       "0    49900\n",
       "1      100\n",
       "Name: isFraud, dtype: int64"
      ]
     },
     "execution_count": 4,
     "metadata": {},
     "output_type": "execute_result"
    }
   ],
   "source": [
    "data['isFraud'].value_counts()"
   ]
  },
  {
   "cell_type": "code",
   "execution_count": 5,
   "id": "2247afdc",
   "metadata": {},
   "outputs": [
    {
     "data": {
      "text/plain": [
       "{'step': 9,\n",
       " 'type': 5,\n",
       " 'amount': 49786,\n",
       " 'nameOrig': 50000,\n",
       " 'oldbalanceOrg': 30572,\n",
       " 'newbalanceOrig': 24328,\n",
       " 'nameDest': 28499,\n",
       " 'oldbalanceDest': 25369,\n",
       " 'newbalanceDest': 9367,\n",
       " 'isFraud': 2,\n",
       " 'isFlaggedFraud': 1}"
      ]
     },
     "execution_count": 5,
     "metadata": {},
     "output_type": "execute_result"
    }
   ],
   "source": [
    "{column: len(data[column].unique()) for column in data.columns}"
   ]
  },
  {
   "cell_type": "code",
   "execution_count": 6,
   "id": "be8b3e97",
   "metadata": {},
   "outputs": [
    {
     "data": {
      "text/plain": [
       "array(['PAYMENT', 'TRANSFER', 'CASH_OUT', 'DEBIT', 'CASH_IN'],\n",
       "      dtype=object)"
      ]
     },
     "execution_count": 6,
     "metadata": {},
     "output_type": "execute_result"
    }
   ],
   "source": [
    "data['type'].unique()"
   ]
  },
  {
   "cell_type": "code",
   "execution_count": 7,
   "id": "866e0bec",
   "metadata": {},
   "outputs": [
    {
     "data": {
      "text/html": [
       "<div>\n",
       "<style scoped>\n",
       "    .dataframe tbody tr th:only-of-type {\n",
       "        vertical-align: middle;\n",
       "    }\n",
       "\n",
       "    .dataframe tbody tr th {\n",
       "        vertical-align: top;\n",
       "    }\n",
       "\n",
       "    .dataframe thead th {\n",
       "        text-align: right;\n",
       "    }\n",
       "</style>\n",
       "<table border=\"1\" class=\"dataframe\">\n",
       "  <thead>\n",
       "    <tr style=\"text-align: right;\">\n",
       "      <th></th>\n",
       "      <th>tp_CASH_IN</th>\n",
       "      <th>tp_CASH_OUT</th>\n",
       "      <th>tp_DEBIT</th>\n",
       "      <th>tp_PAYMENT</th>\n",
       "      <th>tp_TRANSFER</th>\n",
       "    </tr>\n",
       "  </thead>\n",
       "  <tbody>\n",
       "    <tr>\n",
       "      <th>0</th>\n",
       "      <td>0</td>\n",
       "      <td>0</td>\n",
       "      <td>0</td>\n",
       "      <td>1</td>\n",
       "      <td>0</td>\n",
       "    </tr>\n",
       "    <tr>\n",
       "      <th>1</th>\n",
       "      <td>0</td>\n",
       "      <td>0</td>\n",
       "      <td>0</td>\n",
       "      <td>1</td>\n",
       "      <td>0</td>\n",
       "    </tr>\n",
       "    <tr>\n",
       "      <th>2</th>\n",
       "      <td>0</td>\n",
       "      <td>0</td>\n",
       "      <td>0</td>\n",
       "      <td>0</td>\n",
       "      <td>1</td>\n",
       "    </tr>\n",
       "    <tr>\n",
       "      <th>3</th>\n",
       "      <td>0</td>\n",
       "      <td>1</td>\n",
       "      <td>0</td>\n",
       "      <td>0</td>\n",
       "      <td>0</td>\n",
       "    </tr>\n",
       "    <tr>\n",
       "      <th>4</th>\n",
       "      <td>0</td>\n",
       "      <td>0</td>\n",
       "      <td>0</td>\n",
       "      <td>1</td>\n",
       "      <td>0</td>\n",
       "    </tr>\n",
       "    <tr>\n",
       "      <th>...</th>\n",
       "      <td>...</td>\n",
       "      <td>...</td>\n",
       "      <td>...</td>\n",
       "      <td>...</td>\n",
       "      <td>...</td>\n",
       "    </tr>\n",
       "    <tr>\n",
       "      <th>49995</th>\n",
       "      <td>0</td>\n",
       "      <td>0</td>\n",
       "      <td>0</td>\n",
       "      <td>1</td>\n",
       "      <td>0</td>\n",
       "    </tr>\n",
       "    <tr>\n",
       "      <th>49996</th>\n",
       "      <td>0</td>\n",
       "      <td>0</td>\n",
       "      <td>0</td>\n",
       "      <td>1</td>\n",
       "      <td>0</td>\n",
       "    </tr>\n",
       "    <tr>\n",
       "      <th>49997</th>\n",
       "      <td>0</td>\n",
       "      <td>0</td>\n",
       "      <td>0</td>\n",
       "      <td>1</td>\n",
       "      <td>0</td>\n",
       "    </tr>\n",
       "    <tr>\n",
       "      <th>49998</th>\n",
       "      <td>0</td>\n",
       "      <td>0</td>\n",
       "      <td>0</td>\n",
       "      <td>1</td>\n",
       "      <td>0</td>\n",
       "    </tr>\n",
       "    <tr>\n",
       "      <th>49999</th>\n",
       "      <td>0</td>\n",
       "      <td>0</td>\n",
       "      <td>0</td>\n",
       "      <td>1</td>\n",
       "      <td>0</td>\n",
       "    </tr>\n",
       "  </tbody>\n",
       "</table>\n",
       "<p>50000 rows × 5 columns</p>\n",
       "</div>"
      ],
      "text/plain": [
       "       tp_CASH_IN  tp_CASH_OUT  tp_DEBIT  tp_PAYMENT  tp_TRANSFER\n",
       "0               0            0         0           1            0\n",
       "1               0            0         0           1            0\n",
       "2               0            0         0           0            1\n",
       "3               0            1         0           0            0\n",
       "4               0            0         0           1            0\n",
       "...           ...          ...       ...         ...          ...\n",
       "49995           0            0         0           1            0\n",
       "49996           0            0         0           1            0\n",
       "49997           0            0         0           1            0\n",
       "49998           0            0         0           1            0\n",
       "49999           0            0         0           1            0\n",
       "\n",
       "[50000 rows x 5 columns]"
      ]
     },
     "execution_count": 7,
     "metadata": {},
     "output_type": "execute_result"
    }
   ],
   "source": [
    "pd.get_dummies(data['type'], prefix='tp')"
   ]
  },
  {
   "cell_type": "code",
   "execution_count": 8,
   "id": "5ecac7af",
   "metadata": {},
   "outputs": [],
   "source": [
    "def onehot_encode(df, column, prefix):\n",
    "    df = df.copy()\n",
    "    dummies = pd.get_dummies(df[column], prefix=prefix)\n",
    "    df = pd.concat([df, dummies], axis=1)\n",
    "    df = df.drop(column, axis=1)\n",
    "    return df"
   ]
  },
  {
   "cell_type": "code",
   "execution_count": 9,
   "id": "450ec881",
   "metadata": {},
   "outputs": [],
   "source": [
    "def preprocess_inputs(df):\n",
    "    df = df.copy()\n",
    "    \n",
    "    \n",
    "    # Drop step, nameOrig, and isFlaggedFraud columns\n",
    "    df = df.drop(['step', 'nameOrig', 'isFlaggedFraud'], axis=1)\n",
    "    \n",
    "    \n",
    "    # One-hot encode the type column\n",
    "    df = onehot_encode(df, column='type', prefix='tp')\n",
    "    \n",
    "    y = df['isFraud'].copy()\n",
    "    X = df.drop('isFraud', axis=1).copy()\n",
    "    \n",
    "    \n",
    "    # Train-test split\n",
    "    X_train, X_test, y_train, y_test = train_test_split(X, y, train_size=0.7, random_state=123)\n",
    "    \n",
    "    \n",
    "    # Create a tokenizer and fit it to the customer data\n",
    "    tokenizer = tf.keras.preprocessing.text.Tokenizer()\n",
    "    tokenizer.fit_on_texts(X_train['nameDest'])\n",
    "    \n",
    "    print(\"Total # of customers:\", len(tokenizer.word_index))\n",
    "    \n",
    "    \n",
    "    # Create tokenized customer lists\n",
    "    customers_train = tokenizer.texts_to_sequences(X_train['nameDest'])\n",
    "    customers_test = tokenizer.texts_to_sequences(X_test['nameDest'])\n",
    "    \n",
    "    \n",
    "    # Pad sequences\n",
    "    customers_train = tf.keras.preprocessing.sequence.pad_sequences(customers_train, maxlen=1)\n",
    "    customers_test = tf.keras.preprocessing.sequence.pad_sequences(customers_test, maxlen=1)\n",
    "    \n",
    "    \n",
    "    # Drop nameDest column\n",
    "    X_train = X_train.drop('nameDest', axis=1)\n",
    "    X_test = X_test.drop('nameDest', axis=1)\n",
    "    \n",
    "    \n",
    "    # Scale X with a standard scaler\n",
    "    scaler = StandardScaler()\n",
    "    scaler.fit(X_train)\n",
    "    \n",
    "    X_train = pd.DataFrame(scaler.transform(X_train), columns=X_train.columns)\n",
    "    X_test = pd.DataFrame(scaler.transform(X_test), columns=X_test.columns)\n",
    "    \n",
    "    \n",
    "    return X_train, X_test, customers_train, customers_test, y_train, y_test"
   ]
  },
  {
   "cell_type": "code",
   "execution_count": 10,
   "id": "ac255001",
   "metadata": {},
   "outputs": [
    {
     "name": "stdout",
     "output_type": "stream",
     "text": [
      "Total # of customers: 21017\n"
     ]
    }
   ],
   "source": [
    "X_train, X_test, customers_train, customers_test, y_train, y_test = preprocess_inputs(data)"
   ]
  },
  {
   "cell_type": "code",
   "execution_count": 11,
   "id": "28763469",
   "metadata": {},
   "outputs": [
    {
     "data": {
      "text/plain": [
       "array([[ 3450],\n",
       "       [ 3451],\n",
       "       [  579],\n",
       "       ...,\n",
       "       [ 1149],\n",
       "       [  685],\n",
       "       [21017]])"
      ]
     },
     "execution_count": 11,
     "metadata": {},
     "output_type": "execute_result"
    }
   ],
   "source": [
    "customers_train"
   ]
  },
  {
   "cell_type": "code",
   "execution_count": 12,
   "id": "3271e945",
   "metadata": {},
   "outputs": [],
   "source": [
    "train_df = pd.concat([X_train, pd.Series(np.squeeze(customers_train), name='customer'), y_train.reset_index(drop=True)], axis=1)"
   ]
  },
  {
   "cell_type": "code",
   "execution_count": 13,
   "id": "406a59a2",
   "metadata": {},
   "outputs": [
    {
     "data": {
      "text/plain": [
       "0    34929\n",
       "1       71\n",
       "Name: isFraud, dtype: int64"
      ]
     },
     "execution_count": 13,
     "metadata": {},
     "output_type": "execute_result"
    }
   ],
   "source": [
    "train_df['isFraud'].value_counts()"
   ]
  },
  {
   "cell_type": "code",
   "execution_count": 14,
   "id": "ba68aeea",
   "metadata": {},
   "outputs": [],
   "source": [
    "oversampled_data = train_df.query(\"isFraud == 1\").sample(34858, replace=True, random_state=123)"
   ]
  },
  {
   "cell_type": "code",
   "execution_count": 15,
   "id": "2a8f1aab",
   "metadata": {},
   "outputs": [],
   "source": [
    "train_df = pd.concat([train_df, oversampled_data], axis=0).sample(frac=1.0, random_state=123).reset_index(drop=True)"
   ]
  },
  {
   "cell_type": "code",
   "execution_count": 16,
   "id": "94a68667",
   "metadata": {},
   "outputs": [
    {
     "data": {
      "text/html": [
       "<div>\n",
       "<style scoped>\n",
       "    .dataframe tbody tr th:only-of-type {\n",
       "        vertical-align: middle;\n",
       "    }\n",
       "\n",
       "    .dataframe tbody tr th {\n",
       "        vertical-align: top;\n",
       "    }\n",
       "\n",
       "    .dataframe thead th {\n",
       "        text-align: right;\n",
       "    }\n",
       "</style>\n",
       "<table border=\"1\" class=\"dataframe\">\n",
       "  <thead>\n",
       "    <tr style=\"text-align: right;\">\n",
       "      <th></th>\n",
       "      <th>amount</th>\n",
       "      <th>oldbalanceOrg</th>\n",
       "      <th>newbalanceOrig</th>\n",
       "      <th>oldbalanceDest</th>\n",
       "      <th>newbalanceDest</th>\n",
       "      <th>tp_CASH_IN</th>\n",
       "      <th>tp_CASH_OUT</th>\n",
       "      <th>tp_DEBIT</th>\n",
       "      <th>tp_PAYMENT</th>\n",
       "      <th>tp_TRANSFER</th>\n",
       "      <th>customer</th>\n",
       "      <th>isFraud</th>\n",
       "    </tr>\n",
       "  </thead>\n",
       "  <tbody>\n",
       "    <tr>\n",
       "      <th>0</th>\n",
       "      <td>-0.455241</td>\n",
       "      <td>-0.328050</td>\n",
       "      <td>-0.333403</td>\n",
       "      <td>-0.347251</td>\n",
       "      <td>-0.399715</td>\n",
       "      <td>-0.465571</td>\n",
       "      <td>-0.618309</td>\n",
       "      <td>-0.115403</td>\n",
       "      <td>-0.880868</td>\n",
       "      <td>3.082377</td>\n",
       "      <td>13802</td>\n",
       "      <td>1</td>\n",
       "    </tr>\n",
       "    <tr>\n",
       "      <th>1</th>\n",
       "      <td>-0.433171</td>\n",
       "      <td>1.673388</td>\n",
       "      <td>1.646507</td>\n",
       "      <td>-0.299754</td>\n",
       "      <td>-0.366017</td>\n",
       "      <td>2.147900</td>\n",
       "      <td>-0.618309</td>\n",
       "      <td>-0.115403</td>\n",
       "      <td>-0.880868</td>\n",
       "      <td>-0.324425</td>\n",
       "      <td>1030</td>\n",
       "      <td>0</td>\n",
       "    </tr>\n",
       "    <tr>\n",
       "      <th>2</th>\n",
       "      <td>-0.474980</td>\n",
       "      <td>-0.309417</td>\n",
       "      <td>-0.312245</td>\n",
       "      <td>-0.347251</td>\n",
       "      <td>-0.399715</td>\n",
       "      <td>-0.465571</td>\n",
       "      <td>-0.618309</td>\n",
       "      <td>-0.115403</td>\n",
       "      <td>1.135244</td>\n",
       "      <td>-0.324425</td>\n",
       "      <td>3572</td>\n",
       "      <td>0</td>\n",
       "    </tr>\n",
       "    <tr>\n",
       "      <th>3</th>\n",
       "      <td>-0.388713</td>\n",
       "      <td>-0.332726</td>\n",
       "      <td>-0.333403</td>\n",
       "      <td>-0.347251</td>\n",
       "      <td>-0.399715</td>\n",
       "      <td>-0.465571</td>\n",
       "      <td>-0.618309</td>\n",
       "      <td>-0.115403</td>\n",
       "      <td>1.135244</td>\n",
       "      <td>-0.324425</td>\n",
       "      <td>5835</td>\n",
       "      <td>0</td>\n",
       "    </tr>\n",
       "    <tr>\n",
       "      <th>4</th>\n",
       "      <td>-0.469634</td>\n",
       "      <td>-0.332726</td>\n",
       "      <td>-0.333403</td>\n",
       "      <td>-0.347251</td>\n",
       "      <td>-0.399715</td>\n",
       "      <td>-0.465571</td>\n",
       "      <td>-0.618309</td>\n",
       "      <td>-0.115403</td>\n",
       "      <td>1.135244</td>\n",
       "      <td>-0.324425</td>\n",
       "      <td>4713</td>\n",
       "      <td>0</td>\n",
       "    </tr>\n",
       "    <tr>\n",
       "      <th>...</th>\n",
       "      <td>...</td>\n",
       "      <td>...</td>\n",
       "      <td>...</td>\n",
       "      <td>...</td>\n",
       "      <td>...</td>\n",
       "      <td>...</td>\n",
       "      <td>...</td>\n",
       "      <td>...</td>\n",
       "      <td>...</td>\n",
       "      <td>...</td>\n",
       "      <td>...</td>\n",
       "      <td>...</td>\n",
       "    </tr>\n",
       "    <tr>\n",
       "      <th>69853</th>\n",
       "      <td>-0.444370</td>\n",
       "      <td>-0.326458</td>\n",
       "      <td>-0.333403</td>\n",
       "      <td>-0.345862</td>\n",
       "      <td>-0.350505</td>\n",
       "      <td>-0.465571</td>\n",
       "      <td>1.617313</td>\n",
       "      <td>-0.115403</td>\n",
       "      <td>-0.880868</td>\n",
       "      <td>-0.324425</td>\n",
       "      <td>2342</td>\n",
       "      <td>1</td>\n",
       "    </tr>\n",
       "    <tr>\n",
       "      <th>69854</th>\n",
       "      <td>-0.455568</td>\n",
       "      <td>-0.328098</td>\n",
       "      <td>-0.333403</td>\n",
       "      <td>-0.347251</td>\n",
       "      <td>-0.399715</td>\n",
       "      <td>-0.465571</td>\n",
       "      <td>-0.618309</td>\n",
       "      <td>-0.115403</td>\n",
       "      <td>-0.880868</td>\n",
       "      <td>3.082377</td>\n",
       "      <td>8999</td>\n",
       "      <td>1</td>\n",
       "    </tr>\n",
       "    <tr>\n",
       "      <th>69855</th>\n",
       "      <td>-0.453397</td>\n",
       "      <td>-0.332726</td>\n",
       "      <td>-0.333403</td>\n",
       "      <td>-0.347251</td>\n",
       "      <td>-0.399715</td>\n",
       "      <td>-0.465571</td>\n",
       "      <td>-0.618309</td>\n",
       "      <td>-0.115403</td>\n",
       "      <td>1.135244</td>\n",
       "      <td>-0.324425</td>\n",
       "      <td>12402</td>\n",
       "      <td>0</td>\n",
       "    </tr>\n",
       "    <tr>\n",
       "      <th>69856</th>\n",
       "      <td>-0.442919</td>\n",
       "      <td>-0.088634</td>\n",
       "      <td>-0.099816</td>\n",
       "      <td>-0.347251</td>\n",
       "      <td>-0.399715</td>\n",
       "      <td>-0.465571</td>\n",
       "      <td>-0.618309</td>\n",
       "      <td>-0.115403</td>\n",
       "      <td>1.135244</td>\n",
       "      <td>-0.324425</td>\n",
       "      <td>17568</td>\n",
       "      <td>0</td>\n",
       "    </tr>\n",
       "    <tr>\n",
       "      <th>69857</th>\n",
       "      <td>-0.395403</td>\n",
       "      <td>-0.332726</td>\n",
       "      <td>-0.333403</td>\n",
       "      <td>-0.347251</td>\n",
       "      <td>-0.399715</td>\n",
       "      <td>-0.465571</td>\n",
       "      <td>-0.618309</td>\n",
       "      <td>-0.115403</td>\n",
       "      <td>1.135244</td>\n",
       "      <td>-0.324425</td>\n",
       "      <td>11355</td>\n",
       "      <td>0</td>\n",
       "    </tr>\n",
       "  </tbody>\n",
       "</table>\n",
       "<p>69858 rows × 12 columns</p>\n",
       "</div>"
      ],
      "text/plain": [
       "         amount  oldbalanceOrg  newbalanceOrig  oldbalanceDest  \\\n",
       "0     -0.455241      -0.328050       -0.333403       -0.347251   \n",
       "1     -0.433171       1.673388        1.646507       -0.299754   \n",
       "2     -0.474980      -0.309417       -0.312245       -0.347251   \n",
       "3     -0.388713      -0.332726       -0.333403       -0.347251   \n",
       "4     -0.469634      -0.332726       -0.333403       -0.347251   \n",
       "...         ...            ...             ...             ...   \n",
       "69853 -0.444370      -0.326458       -0.333403       -0.345862   \n",
       "69854 -0.455568      -0.328098       -0.333403       -0.347251   \n",
       "69855 -0.453397      -0.332726       -0.333403       -0.347251   \n",
       "69856 -0.442919      -0.088634       -0.099816       -0.347251   \n",
       "69857 -0.395403      -0.332726       -0.333403       -0.347251   \n",
       "\n",
       "       newbalanceDest  tp_CASH_IN  tp_CASH_OUT  tp_DEBIT  tp_PAYMENT  \\\n",
       "0           -0.399715   -0.465571    -0.618309 -0.115403   -0.880868   \n",
       "1           -0.366017    2.147900    -0.618309 -0.115403   -0.880868   \n",
       "2           -0.399715   -0.465571    -0.618309 -0.115403    1.135244   \n",
       "3           -0.399715   -0.465571    -0.618309 -0.115403    1.135244   \n",
       "4           -0.399715   -0.465571    -0.618309 -0.115403    1.135244   \n",
       "...               ...         ...          ...       ...         ...   \n",
       "69853       -0.350505   -0.465571     1.617313 -0.115403   -0.880868   \n",
       "69854       -0.399715   -0.465571    -0.618309 -0.115403   -0.880868   \n",
       "69855       -0.399715   -0.465571    -0.618309 -0.115403    1.135244   \n",
       "69856       -0.399715   -0.465571    -0.618309 -0.115403    1.135244   \n",
       "69857       -0.399715   -0.465571    -0.618309 -0.115403    1.135244   \n",
       "\n",
       "       tp_TRANSFER  customer  isFraud  \n",
       "0         3.082377     13802        1  \n",
       "1        -0.324425      1030        0  \n",
       "2        -0.324425      3572        0  \n",
       "3        -0.324425      5835        0  \n",
       "4        -0.324425      4713        0  \n",
       "...            ...       ...      ...  \n",
       "69853    -0.324425      2342        1  \n",
       "69854     3.082377      8999        1  \n",
       "69855    -0.324425     12402        0  \n",
       "69856    -0.324425     17568        0  \n",
       "69857    -0.324425     11355        0  \n",
       "\n",
       "[69858 rows x 12 columns]"
      ]
     },
     "execution_count": 16,
     "metadata": {},
     "output_type": "execute_result"
    }
   ],
   "source": [
    "train_df"
   ]
  },
  {
   "cell_type": "code",
   "execution_count": 17,
   "id": "b1e2492f",
   "metadata": {},
   "outputs": [
    {
     "data": {
      "text/plain": [
       "0    34929\n",
       "1    34929\n",
       "Name: isFraud, dtype: int64"
      ]
     },
     "execution_count": 17,
     "metadata": {},
     "output_type": "execute_result"
    }
   ],
   "source": [
    "train_df['isFraud'].value_counts()"
   ]
  },
  {
   "cell_type": "code",
   "execution_count": 18,
   "id": "f6983608",
   "metadata": {},
   "outputs": [],
   "source": [
    "customers_train = train_df['customer'].copy()\n",
    "y_train = train_df['isFraud'].copy()\n",
    "X_train = train_df.drop(['customer', 'isFraud'], axis=1).copy()"
   ]
  },
  {
   "cell_type": "code",
   "execution_count": 19,
   "id": "8174083b",
   "metadata": {},
   "outputs": [
    {
     "name": "stdout",
     "output_type": "stream",
     "text": [
      "Model: \"functional_1\"\n",
      "__________________________________________________________________________________________________\n",
      "Layer (type)                    Output Shape         Param #     Connected to                     \n",
      "==================================================================================================\n",
      "X_input (InputLayer)            [(None, 10)]         0                                            \n",
      "__________________________________________________________________________________________________\n",
      "customer_input (InputLayer)     [(None, 1)]          0                                            \n",
      "__________________________________________________________________________________________________\n",
      "X_dense1 (Dense)                (None, 64)           704         X_input[0][0]                    \n",
      "__________________________________________________________________________________________________\n",
      "customer_embedding (Embedding)  (None, 1, 64)        1345152     customer_input[0][0]             \n",
      "__________________________________________________________________________________________________\n",
      "X_dense2 (Dense)                (None, 64)           4160        X_dense1[0][0]                   \n",
      "__________________________________________________________________________________________________\n",
      "customer_flatten (Flatten)      (None, 64)           0           customer_embedding[0][0]         \n",
      "__________________________________________________________________________________________________\n",
      "concatenate (Concatenate)       (None, 128)          0           X_dense2[0][0]                   \n",
      "                                                                 customer_flatten[0][0]           \n",
      "__________________________________________________________________________________________________\n",
      "output (Dense)                  (None, 1)            129         concatenate[0][0]                \n",
      "==================================================================================================\n",
      "Total params: 1,350,145\n",
      "Trainable params: 1,350,145\n",
      "Non-trainable params: 0\n",
      "__________________________________________________________________________________________________\n",
      "None\n"
     ]
    },
    {
     "data": {
      "image/png": "[encoded data removed]",
      "text/plain": [
       "<IPython.core.display.Image object>"
      ]
     },
     "execution_count": 19,
     "metadata": {},
     "output_type": "execute_result"
    }
   ],
   "source": [
    "X_inputs = tf.keras.Input(shape=(10,), name='X_input')\n",
    "customer_inputs = tf.keras.Input(shape=(1,), name='customer_input')\n",
    "\n",
    "# X\n",
    "X_dense1 = tf.keras.layers.Dense(64, activation='relu', name='X_dense1')(X_inputs)\n",
    "X_dense2 = tf.keras.layers.Dense(64, activation='relu', name='X_dense2')(X_dense1)\n",
    "\n",
    "# customers\n",
    "customer_embedding = tf.keras.layers.Embedding(\n",
    "    input_dim=21018,\n",
    "    output_dim=64,\n",
    "    input_length=1,\n",
    "    name='customer_embedding'\n",
    ")(customer_inputs)\n",
    "customer_flatten = tf.keras.layers.Flatten(name='customer_flatten')(customer_embedding)\n",
    "\n",
    "# Concatenate\n",
    "concat = tf.keras.layers.concatenate([X_dense2, customer_flatten], name='concatenate')\n",
    "\n",
    "# Output\n",
    "outputs = tf.keras.layers.Dense(1, activation='sigmoid', name='output')(concat)\n",
    "\n",
    "\n",
    "model = tf.keras.Model(inputs=[X_inputs, customer_inputs], outputs=outputs)\n",
    "\n",
    "print(model.summary())\n",
    "tf.keras.utils.plot_model(model)"
   ]
  },
  {
   "cell_type": "code",
   "execution_count": 20,
   "id": "971ab0e6",
   "metadata": {},
   "outputs": [],
   "source": [
    "model.compile(\n",
    "    optimizer='adam',\n",
    "    loss='binary_crossentropy',\n",
    "    metrics=[\n",
    "        'accuracy',\n",
    "        tf.keras.metrics.AUC(name='auc')\n",
    "    ]\n",
    ")"
   ]
  },
  {
   "cell_type": "markdown",
   "id": "80efe7c0",
   "metadata": {},
   "source": [
    "Training"
   ]
  },
  {
   "cell_type": "code",
   "execution_count": 21,
   "id": "ec486dcf",
   "metadata": {},
   "outputs": [
    {
     "name": "stdout",
     "output_type": "stream",
     "text": [
      "Epoch 1/10\n",
      "1747/1747 [==============================] - 20s 11ms/step - loss: 0.0703 - accuracy: 0.9319 - auc: 0.9951 - val_loss: 0.0118 - val_accuracy: 0.9979 - val_auc: 0.9991\n",
      "Epoch 2/10\n",
      "1747/1747 [==============================] - 15s 9ms/step - loss: 0.0037 - accuracy: 0.9982 - auc: 0.9988 - val_loss: 0.0094 - val_accuracy: 0.9984 - val_auc: 0.9994\n",
      "Epoch 3/10\n",
      "1747/1747 [==============================] - 16s 9ms/step - loss: 0.0031 - accuracy: 0.9984 - auc: 0.9990 - val_loss: 0.0091 - val_accuracy: 0.9986 - val_auc: 0.9994\n",
      "Epoch 4/10\n",
      "1747/1747 [==============================] - 16s 9ms/step - loss: 0.0031 - accuracy: 0.9985 - auc: 0.9991 - val_loss: 0.0084 - val_accuracy: 0.9986 - val_auc: 0.9994\n",
      "Epoch 5/10\n",
      "1747/1747 [==============================] - 15s 9ms/step - loss: 0.0025 - accuracy: 0.9986 - auc: 0.9992 - val_loss: 0.0057 - val_accuracy: 0.9988 - val_auc: 0.9996\n",
      "Epoch 6/10\n",
      "1747/1747 [==============================] - 16s 9ms/step - loss: 0.0023 - accuracy: 0.9988 - auc: 0.9993 - val_loss: 0.0061 - val_accuracy: 0.9987 - val_auc: 0.9997\n",
      "Epoch 7/10\n",
      "1747/1747 [==============================] - 16s 9ms/step - loss: 0.0027 - accuracy: 0.9988 - auc: 0.9993 - val_loss: 0.0182 - val_accuracy: 0.9981 - val_auc: 0.9989\n"
     ]
    }
   ],
   "source": [
    "history = model.fit(\n",
    "    [X_train, customers_train],\n",
    "    y_train,\n",
    "    validation_split=0.2,\n",
    "    class_weight={\n",
    "        0: 0.25,\n",
    "        1: 4.0\n",
    "    },\n",
    "    batch_size=32,\n",
    "    epochs=10,\n",
    "    callbacks=[\n",
    "        tf.keras.callbacks.EarlyStopping(\n",
    "            monitor='val_loss',\n",
    "            patience=2,\n",
    "            restore_best_weights=True\n",
    "        )\n",
    "    ]\n",
    ")"
   ]
  },
  {
   "cell_type": "markdown",
   "id": "48045fd4",
   "metadata": {},
   "source": [
    "# Results"
   ]
  },
  {
   "cell_type": "code",
   "execution_count": 22,
   "id": "4f13d01a",
   "metadata": {},
   "outputs": [
    {
     "name": "stdout",
     "output_type": "stream",
     "text": [
      "Test Accuracy: 99.720%\n",
      "99.72000122070312\n",
      "     Test AUC: 77.267\n"
     ]
    }
   ],
   "source": [
    "results = model.evaluate([X_test, customers_test], y_test, verbose=0)\n",
    "print(\"Test Accuracy: {:.3f}%\".format(results[1] * 100))\n",
    "acctf =results[1] * 100\n",
    "print(acctf)\n",
    "print(\"     Test AUC: {:.3f}\".format(results[2] * 100))"
   ]
  },
  {
   "cell_type": "code",
   "execution_count": 23,
   "id": "f5e0d2ce",
   "metadata": {},
   "outputs": [
    {
     "name": "stdout",
     "output_type": "stream",
     "text": [
      "Stored 'acctf' (float)\n"
     ]
    }
   ],
   "source": [
    "%store acctf"
   ]
  },
  {
   "cell_type": "code",
   "execution_count": 24,
   "id": "772d0f23",
   "metadata": {},
   "outputs": [
    {
     "name": "stderr",
     "output_type": "stream",
     "text": [
      "<ipython-input-24-5d190804a4e5>:4: DeprecationWarning: `np.int` is a deprecated alias for the builtin `int`. To silence this warning, use `int` by itself. Doing this will not modify any behavior and is safe. When replacing `np.int`, you may wish to use e.g. `np.int64` or `np.int32` to specify the precision. If you wish to review your current use, check the release note link for additional information.\n",
      "Deprecated in NumPy 1.20; for more details and guidance: https://numpy.org/devdocs/release/1.20.0-notes.html#deprecations\n",
      "  y_pred = (y_pred >= 0.5).astype(np.int)\n"
     ]
    }
   ],
   "source": [
    "y_true = np.array(y_test)\n",
    "\n",
    "y_pred = np.squeeze(model.predict([X_test, customers_test]))\n",
    "y_pred = (y_pred >= 0.5).astype(np.int)\n",
    "\n",
    "\n",
    "cm = confusion_matrix(y_true, y_pred)\n",
    "clr = classification_report(y_true, y_pred, target_names=[\"Not Fraud\", \"Fraud\"])"
   ]
  },
  {
   "cell_type": "code",
   "execution_count": 28,
   "id": "ed9ad62b",
   "metadata": {},
   "outputs": [],
   "source": [
    "tf01 = cm[0,1]\n",
    "tf10 = cm[1,0]"
   ]
  },
  {
   "cell_type": "code",
   "execution_count": 30,
   "id": "0023804f",
   "metadata": {},
   "outputs": [
    {
     "name": "stdout",
     "output_type": "stream",
     "text": [
      "Stored 'tf01' (int64)\n",
      "Stored 'tf10' (int64)\n"
     ]
    }
   ],
   "source": [
    "%store tf01\n",
    "%store tf10"
   ]
  },
  {
   "cell_type": "code",
   "execution_count": 25,
   "id": "c019b5ee",
   "metadata": {},
   "outputs": [
    {
     "data": {
      "image/png": "[encoded data removed]",
      "text/plain": [
       "<Figure size 576x576 with 1 Axes>"
      ]
     },
     "metadata": {
      "needs_background": "light"
     },
     "output_type": "display_data"
    }
   ],
   "source": [
    "plt.figure(figsize=(8, 8))\n",
    "sns.heatmap(cm, annot=True, vmin=0, fmt='g', cbar=False, cmap='Blues')\n",
    "plt.xticks(np.arange(2) + 0.5, [\"Not Fraud\", \"Fraud\"])\n",
    "plt.yticks(np.arange(2) + 0.5, [\"Not Fraud\", \"Fraud\"])\n",
    "plt.xlabel(\"Predicted\")\n",
    "plt.ylabel(\"Actual\")\n",
    "plt.title(\"Confusion Matrix\")\n",
    "plt.show()"
   ]
  },
  {
   "cell_type": "code",
   "execution_count": 26,
   "id": "68fc978d",
   "metadata": {},
   "outputs": [
    {
     "name": "stdout",
     "output_type": "stream",
     "text": [
      "Classification Report:\n",
      "----------------------\n",
      "               precision    recall  f1-score   support\n",
      "\n",
      "   Not Fraud       1.00      1.00      1.00     14971\n",
      "       Fraud       0.22      0.17      0.19        29\n",
      "\n",
      "    accuracy                           1.00     15000\n",
      "   macro avg       0.61      0.59      0.60     15000\n",
      "weighted avg       1.00      1.00      1.00     15000\n",
      "\n"
     ]
    }
   ],
   "source": [
    "print(\"Classification Report:\\n----------------------\\n\", clr)"
   ]
  }
 ],
 "metadata": {
  "kernelspec": {
   "display_name": "Python 3",
   "language": "python",
   "name": "python3"
  },
  "language_info": {
   "codemirror_mode": {
    "name": "ipython",
    "version": 3
   },
   "file_extension": ".py",
   "mimetype": "text/x-python",
   "name": "python",
   "nbconvert_exporter": "python",
   "pygments_lexer": "ipython3",
   "version": "3.8.8"
  }
 },
 "nbformat": 4,
 "nbformat_minor": 5
}
