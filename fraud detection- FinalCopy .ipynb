{
 "cells": [
  {
   "cell_type": "markdown",
   "id": "98d2c856",
   "metadata": {},
   "source": [
    "# Credit Card Fraud Detection Classification"
   ]
  },
  {
   "cell_type": "markdown",
   "id": "da16ecc5",
   "metadata": {},
   "source": [
    "# Brief Description of Dataset"
   ]
  },
  {
   "cell_type": "markdown",
   "id": "7bb5e448",
   "metadata": {},
   "source": [
    "Information about dataset, paysim1:\n",
    "\n",
    "URL of Kaggle Dataset page: https://www.kaggle.com/ntnu-testimon/paysim1\n",
    "\n",
    "The dataset was made for performing research on fraud detection methods.\n",
    "\n",
    "Here are the variables in the datasets as well as their descriptions:\n",
    "\n",
    "step - integer - maps a unit of time in the real world. In this case 1 step is 1 hour of time. Total steps 744 (30 days simulation).\n",
    "\n",
    "type - string/categorical - type of transaction: CASH-IN, CASH-OUT, DEBIT, PAYMENT and TRANSFER.\n",
    "\n",
    "amount - float - amount of the transaction in local currency.\n",
    "\n",
    "nameOrig - string - customer who initiated the transaction\n",
    "\n",
    "oldbalanceOrg - float initial balance before the transaction\n",
    "\n",
    "newbalanceOrig - float - new balance after the transaction\n",
    "\n",
    "nameDest - string - customer who is the recipient of the transaction\n",
    "\n",
    "oldbalanceDest - float - initial balance of recipient before the transaction.\n",
    "\n",
    "newbalanceDest - float - new balance of recipient after the transaction.\n",
    "\n",
    "isFraud - boolean/binary - determines if transaction is fraudulent (encoded as 1) or valid (encoded as 0)\n",
    "\n",
    "isFlaggedFraud - boolean/binary - determines if transaction is flagged as fraudulent (encoded as 1) or not flagged at all (encoded as 0). An observation is flagged if the transaction is fraudulent and it involved a transfer of over 200,000 in the local currency.\n",
    "\n"
   ]
  },
  {
   "cell_type": "code",
   "execution_count": 245,
   "id": "097c3528",
   "metadata": {},
   "outputs": [],
   "source": [
    "import numpy as np\n",
    "import pandas as pd\n",
    "from sklearn import preprocessing\n",
    "from sklearn.preprocessing import StandardScaler\n",
    "import matplotlib.pyplot as plt\n",
    "import seaborn as sns\n",
    "from sklearn import metrics"
   ]
  },
  {
   "cell_type": "code",
   "execution_count": 246,
   "id": "d42cca2d",
   "metadata": {},
   "outputs": [],
   "source": [
    "dataframe= pd.read_csv(\"PS_20174392719_1491204439457_log.csv\")"
   ]
  },
  {
   "cell_type": "code",
   "execution_count": 247,
   "id": "d28155a9",
   "metadata": {},
   "outputs": [
    {
     "data": {
      "text/html": [
       "<div>\n",
       "<style scoped>\n",
       "    .dataframe tbody tr th:only-of-type {\n",
       "        vertical-align: middle;\n",
       "    }\n",
       "\n",
       "    .dataframe tbody tr th {\n",
       "        vertical-align: top;\n",
       "    }\n",
       "\n",
       "    .dataframe thead th {\n",
       "        text-align: right;\n",
       "    }\n",
       "</style>\n",
       "<table border=\"1\" class=\"dataframe\">\n",
       "  <thead>\n",
       "    <tr style=\"text-align: right;\">\n",
       "      <th></th>\n",
       "      <th>step</th>\n",
       "      <th>type</th>\n",
       "      <th>amount</th>\n",
       "      <th>nameOrig</th>\n",
       "      <th>oldbalanceOrg</th>\n",
       "      <th>newbalanceOrig</th>\n",
       "      <th>nameDest</th>\n",
       "      <th>oldbalanceDest</th>\n",
       "      <th>newbalanceDest</th>\n",
       "      <th>isFraud</th>\n",
       "      <th>isFlaggedFraud</th>\n",
       "    </tr>\n",
       "  </thead>\n",
       "  <tbody>\n",
       "    <tr>\n",
       "      <th>0</th>\n",
       "      <td>1</td>\n",
       "      <td>PAYMENT</td>\n",
       "      <td>9839.64</td>\n",
       "      <td>C1231006815</td>\n",
       "      <td>170136.0</td>\n",
       "      <td>160296.36</td>\n",
       "      <td>M1979787155</td>\n",
       "      <td>0.0</td>\n",
       "      <td>0.0</td>\n",
       "      <td>0</td>\n",
       "      <td>0</td>\n",
       "    </tr>\n",
       "    <tr>\n",
       "      <th>1</th>\n",
       "      <td>1</td>\n",
       "      <td>PAYMENT</td>\n",
       "      <td>1864.28</td>\n",
       "      <td>C1666544295</td>\n",
       "      <td>21249.0</td>\n",
       "      <td>19384.72</td>\n",
       "      <td>M2044282225</td>\n",
       "      <td>0.0</td>\n",
       "      <td>0.0</td>\n",
       "      <td>0</td>\n",
       "      <td>0</td>\n",
       "    </tr>\n",
       "    <tr>\n",
       "      <th>2</th>\n",
       "      <td>1</td>\n",
       "      <td>TRANSFER</td>\n",
       "      <td>181.00</td>\n",
       "      <td>C1305486145</td>\n",
       "      <td>181.0</td>\n",
       "      <td>0.00</td>\n",
       "      <td>C553264065</td>\n",
       "      <td>0.0</td>\n",
       "      <td>0.0</td>\n",
       "      <td>1</td>\n",
       "      <td>0</td>\n",
       "    </tr>\n",
       "    <tr>\n",
       "      <th>3</th>\n",
       "      <td>1</td>\n",
       "      <td>CASH_OUT</td>\n",
       "      <td>181.00</td>\n",
       "      <td>C840083671</td>\n",
       "      <td>181.0</td>\n",
       "      <td>0.00</td>\n",
       "      <td>C38997010</td>\n",
       "      <td>21182.0</td>\n",
       "      <td>0.0</td>\n",
       "      <td>1</td>\n",
       "      <td>0</td>\n",
       "    </tr>\n",
       "    <tr>\n",
       "      <th>4</th>\n",
       "      <td>1</td>\n",
       "      <td>PAYMENT</td>\n",
       "      <td>11668.14</td>\n",
       "      <td>C2048537720</td>\n",
       "      <td>41554.0</td>\n",
       "      <td>29885.86</td>\n",
       "      <td>M1230701703</td>\n",
       "      <td>0.0</td>\n",
       "      <td>0.0</td>\n",
       "      <td>0</td>\n",
       "      <td>0</td>\n",
       "    </tr>\n",
       "  </tbody>\n",
       "</table>\n",
       "</div>"
      ],
      "text/plain": [
       "   step      type    amount     nameOrig  oldbalanceOrg  newbalanceOrig  \\\n",
       "0     1   PAYMENT   9839.64  C1231006815       170136.0       160296.36   \n",
       "1     1   PAYMENT   1864.28  C1666544295        21249.0        19384.72   \n",
       "2     1  TRANSFER    181.00  C1305486145          181.0            0.00   \n",
       "3     1  CASH_OUT    181.00   C840083671          181.0            0.00   \n",
       "4     1   PAYMENT  11668.14  C2048537720        41554.0        29885.86   \n",
       "\n",
       "      nameDest  oldbalanceDest  newbalanceDest  isFraud  isFlaggedFraud  \n",
       "0  M1979787155             0.0             0.0        0               0  \n",
       "1  M2044282225             0.0             0.0        0               0  \n",
       "2   C553264065             0.0             0.0        1               0  \n",
       "3    C38997010         21182.0             0.0        1               0  \n",
       "4  M1230701703             0.0             0.0        0               0  "
      ]
     },
     "execution_count": 247,
     "metadata": {},
     "output_type": "execute_result"
    }
   ],
   "source": [
    "dataframe.head()"
   ]
  },
  {
   "cell_type": "code",
   "execution_count": 248,
   "id": "704693c0",
   "metadata": {},
   "outputs": [
    {
     "data": {
      "text/html": [
       "<div>\n",
       "<style scoped>\n",
       "    .dataframe tbody tr th:only-of-type {\n",
       "        vertical-align: middle;\n",
       "    }\n",
       "\n",
       "    .dataframe tbody tr th {\n",
       "        vertical-align: top;\n",
       "    }\n",
       "\n",
       "    .dataframe thead th {\n",
       "        text-align: right;\n",
       "    }\n",
       "</style>\n",
       "<table border=\"1\" class=\"dataframe\">\n",
       "  <thead>\n",
       "    <tr style=\"text-align: right;\">\n",
       "      <th></th>\n",
       "      <th>step</th>\n",
       "      <th>type</th>\n",
       "      <th>amount</th>\n",
       "      <th>nameOrig</th>\n",
       "      <th>oldbalanceOrg</th>\n",
       "      <th>newbalanceOrig</th>\n",
       "      <th>nameDest</th>\n",
       "      <th>oldbalanceDest</th>\n",
       "      <th>newbalanceDest</th>\n",
       "      <th>isFraud</th>\n",
       "      <th>isFlaggedFraud</th>\n",
       "    </tr>\n",
       "  </thead>\n",
       "  <tbody>\n",
       "    <tr>\n",
       "      <th>6362615</th>\n",
       "      <td>743</td>\n",
       "      <td>CASH_OUT</td>\n",
       "      <td>339682.13</td>\n",
       "      <td>C786484425</td>\n",
       "      <td>339682.13</td>\n",
       "      <td>0.0</td>\n",
       "      <td>C776919290</td>\n",
       "      <td>0.00</td>\n",
       "      <td>339682.13</td>\n",
       "      <td>1</td>\n",
       "      <td>0</td>\n",
       "    </tr>\n",
       "    <tr>\n",
       "      <th>6362616</th>\n",
       "      <td>743</td>\n",
       "      <td>TRANSFER</td>\n",
       "      <td>6311409.28</td>\n",
       "      <td>C1529008245</td>\n",
       "      <td>6311409.28</td>\n",
       "      <td>0.0</td>\n",
       "      <td>C1881841831</td>\n",
       "      <td>0.00</td>\n",
       "      <td>0.00</td>\n",
       "      <td>1</td>\n",
       "      <td>0</td>\n",
       "    </tr>\n",
       "    <tr>\n",
       "      <th>6362617</th>\n",
       "      <td>743</td>\n",
       "      <td>CASH_OUT</td>\n",
       "      <td>6311409.28</td>\n",
       "      <td>C1162922333</td>\n",
       "      <td>6311409.28</td>\n",
       "      <td>0.0</td>\n",
       "      <td>C1365125890</td>\n",
       "      <td>68488.84</td>\n",
       "      <td>6379898.11</td>\n",
       "      <td>1</td>\n",
       "      <td>0</td>\n",
       "    </tr>\n",
       "    <tr>\n",
       "      <th>6362618</th>\n",
       "      <td>743</td>\n",
       "      <td>TRANSFER</td>\n",
       "      <td>850002.52</td>\n",
       "      <td>C1685995037</td>\n",
       "      <td>850002.52</td>\n",
       "      <td>0.0</td>\n",
       "      <td>C2080388513</td>\n",
       "      <td>0.00</td>\n",
       "      <td>0.00</td>\n",
       "      <td>1</td>\n",
       "      <td>0</td>\n",
       "    </tr>\n",
       "    <tr>\n",
       "      <th>6362619</th>\n",
       "      <td>743</td>\n",
       "      <td>CASH_OUT</td>\n",
       "      <td>850002.52</td>\n",
       "      <td>C1280323807</td>\n",
       "      <td>850002.52</td>\n",
       "      <td>0.0</td>\n",
       "      <td>C873221189</td>\n",
       "      <td>6510099.11</td>\n",
       "      <td>7360101.63</td>\n",
       "      <td>1</td>\n",
       "      <td>0</td>\n",
       "    </tr>\n",
       "  </tbody>\n",
       "</table>\n",
       "</div>"
      ],
      "text/plain": [
       "         step      type      amount     nameOrig  oldbalanceOrg  \\\n",
       "6362615   743  CASH_OUT   339682.13   C786484425      339682.13   \n",
       "6362616   743  TRANSFER  6311409.28  C1529008245     6311409.28   \n",
       "6362617   743  CASH_OUT  6311409.28  C1162922333     6311409.28   \n",
       "6362618   743  TRANSFER   850002.52  C1685995037      850002.52   \n",
       "6362619   743  CASH_OUT   850002.52  C1280323807      850002.52   \n",
       "\n",
       "         newbalanceOrig     nameDest  oldbalanceDest  newbalanceDest  isFraud  \\\n",
       "6362615             0.0   C776919290            0.00       339682.13        1   \n",
       "6362616             0.0  C1881841831            0.00            0.00        1   \n",
       "6362617             0.0  C1365125890        68488.84      6379898.11        1   \n",
       "6362618             0.0  C2080388513            0.00            0.00        1   \n",
       "6362619             0.0   C873221189      6510099.11      7360101.63        1   \n",
       "\n",
       "         isFlaggedFraud  \n",
       "6362615               0  \n",
       "6362616               0  \n",
       "6362617               0  \n",
       "6362618               0  \n",
       "6362619               0  "
      ]
     },
     "execution_count": 248,
     "metadata": {},
     "output_type": "execute_result"
    }
   ],
   "source": [
    "dataframe.tail()"
   ]
  },
  {
   "cell_type": "code",
   "execution_count": 249,
   "id": "ad4d30c1",
   "metadata": {},
   "outputs": [
    {
     "data": {
      "image/png": "[encoded data removed]",
      "text/plain": [
       "<Figure size 432x288 with 2 Axes>"
      ]
     },
     "metadata": {
      "needs_background": "light"
     },
     "output_type": "display_data"
    }
   ],
   "source": [
    "%matplotlib inline\n",
    "corr=dataframe.corr()\n",
    "ax=sns.heatmap(corr, vmin=-1, vmax=1, center=0,\n",
    "               square=True, cmap='YlGnBu')"
   ]
  },
  {
   "cell_type": "code",
   "execution_count": 250,
   "id": "38d65a8d",
   "metadata": {},
   "outputs": [
    {
     "data": {
      "image/png": "[encoded data removed]",
      "text/plain": [
       "<Figure size 432x288 with 1 Axes>"
      ]
     },
     "metadata": {
      "needs_background": "light"
     },
     "output_type": "display_data"
    }
   ],
   "source": [
    "var = dataframe.groupby('type').amount.sum()\n",
    "fig = plt.figure()\n",
    "ax1 = fig.add_subplot(1,1,1)\n",
    "var.plot(kind='bar')\n",
    "ax1.set_title(\"Total amount per transaction type\")\n",
    "ax1.set_xlabel('Type of Transaction')\n",
    "ax1.set_ylabel('Amount');"
   ]
  },
  {
   "cell_type": "code",
   "execution_count": 251,
   "id": "37445025",
   "metadata": {},
   "outputs": [
    {
     "data": {
      "image/png": "[encoded data removed]",
      "text/plain": [
       "<Figure size 432x288 with 1 Axes>"
      ]
     },
     "metadata": {
      "needs_background": "light"
     },
     "output_type": "display_data"
    }
   ],
   "source": [
    "fig = plt.figure()\n",
    "ax = fig.add_subplot(1,1,1)\n",
    "ax.scatter(nonfraud['oldbalanceOrg'],nonfraud['amount'],c='g')\n",
    "ax.scatter(fraud['oldbalanceOrg'],fraud['amount'],c='r')\n",
    "plt.show()"
   ]
  },
  {
   "cell_type": "code",
   "execution_count": 252,
   "id": "68faae6c",
   "metadata": {},
   "outputs": [
    {
     "name": "stdout",
     "output_type": "stream",
     "text": [
      "<class 'pandas.core.frame.DataFrame'>\n",
      "RangeIndex: 6362620 entries, 0 to 6362619\n",
      "Data columns (total 11 columns):\n",
      " #   Column          Dtype  \n",
      "---  ------          -----  \n",
      " 0   step            int64  \n",
      " 1   type            object \n",
      " 2   amount          float64\n",
      " 3   nameOrig        object \n",
      " 4   oldbalanceOrg   float64\n",
      " 5   newbalanceOrig  float64\n",
      " 6   nameDest        object \n",
      " 7   oldbalanceDest  float64\n",
      " 8   newbalanceDest  float64\n",
      " 9   isFraud         int64  \n",
      " 10  isFlaggedFraud  int64  \n",
      "dtypes: float64(5), int64(3), object(3)\n",
      "memory usage: 534.0+ MB\n"
     ]
    }
   ],
   "source": [
    "dataframe.info()"
   ]
  },
  {
   "cell_type": "markdown",
   "id": "46baee03",
   "metadata": {},
   "source": [
    "# Key TakeAway"
   ]
  },
  {
   "cell_type": "markdown",
   "id": "3832cc60",
   "metadata": {},
   "source": [
    "There are no missing values\n",
    "There are just over 6 million observations\n",
    "There are 11 variables\n",
    "Most transactions involve amounts less than 1 million euros.\n",
    "Most observations in the dataset are of valid transactions, so any patterns related to identifying fraud transactions may be hard to see, data is also unbalanced.\n"
   ]
  },
  {
   "cell_type": "code",
   "execution_count": 253,
   "id": "73625dbb",
   "metadata": {},
   "outputs": [],
   "source": [
    "del dataframe['nameDest']\n",
    "del dataframe['nameOrig']\n",
    "del dataframe['isFlaggedFraud']"
   ]
  },
  {
   "cell_type": "code",
   "execution_count": 254,
   "id": "3b22d145",
   "metadata": {},
   "outputs": [
    {
     "data": {
      "text/html": [
       "<div>\n",
       "<style scoped>\n",
       "    .dataframe tbody tr th:only-of-type {\n",
       "        vertical-align: middle;\n",
       "    }\n",
       "\n",
       "    .dataframe tbody tr th {\n",
       "        vertical-align: top;\n",
       "    }\n",
       "\n",
       "    .dataframe thead th {\n",
       "        text-align: right;\n",
       "    }\n",
       "</style>\n",
       "<table border=\"1\" class=\"dataframe\">\n",
       "  <thead>\n",
       "    <tr style=\"text-align: right;\">\n",
       "      <th></th>\n",
       "      <th>step</th>\n",
       "      <th>type</th>\n",
       "      <th>amount</th>\n",
       "      <th>oldbalanceOrg</th>\n",
       "      <th>newbalanceOrig</th>\n",
       "      <th>oldbalanceDest</th>\n",
       "      <th>newbalanceDest</th>\n",
       "      <th>isFraud</th>\n",
       "    </tr>\n",
       "  </thead>\n",
       "  <tbody>\n",
       "    <tr>\n",
       "      <th>0</th>\n",
       "      <td>1</td>\n",
       "      <td>PAYMENT</td>\n",
       "      <td>9839.64</td>\n",
       "      <td>170136.0</td>\n",
       "      <td>160296.36</td>\n",
       "      <td>0.0</td>\n",
       "      <td>0.0</td>\n",
       "      <td>0</td>\n",
       "    </tr>\n",
       "    <tr>\n",
       "      <th>1</th>\n",
       "      <td>1</td>\n",
       "      <td>PAYMENT</td>\n",
       "      <td>1864.28</td>\n",
       "      <td>21249.0</td>\n",
       "      <td>19384.72</td>\n",
       "      <td>0.0</td>\n",
       "      <td>0.0</td>\n",
       "      <td>0</td>\n",
       "    </tr>\n",
       "  </tbody>\n",
       "</table>\n",
       "</div>"
      ],
      "text/plain": [
       "   step     type   amount  oldbalanceOrg  newbalanceOrig  oldbalanceDest  \\\n",
       "0     1  PAYMENT  9839.64       170136.0       160296.36             0.0   \n",
       "1     1  PAYMENT  1864.28        21249.0        19384.72             0.0   \n",
       "\n",
       "   newbalanceDest  isFraud  \n",
       "0             0.0        0  \n",
       "1             0.0        0  "
      ]
     },
     "execution_count": 254,
     "metadata": {},
     "output_type": "execute_result"
    }
   ],
   "source": [
    "dataframe1=dataframe[0:-1]\n",
    "dataframe1.head(2)"
   ]
  },
  {
   "cell_type": "code",
   "execution_count": 255,
   "id": "0d1c0d29",
   "metadata": {},
   "outputs": [],
   "source": [
    "cnt0=(dataframe['isFraud']==0).sum()\n",
    "cnt1=(dataframe['isFraud']==1).sum()"
   ]
  },
  {
   "cell_type": "code",
   "execution_count": 256,
   "id": "f5b8eae7",
   "metadata": {},
   "outputs": [
    {
     "data": {
      "image/png": "[encoded data removed]",
      "text/plain": [
       "<Figure size 864x576 with 1 Axes>"
      ]
     },
     "metadata": {
      "needs_background": "light"
     },
     "output_type": "display_data"
    }
   ],
   "source": [
    "somelist=[cnt0,cnt1]\n",
    "freq_series = pd.Series(somelist)\n",
    "plt.figure(figsize=(12, 8))\n",
    "ax =freq_series.plot(kind='bar')\n",
    "name=['Not Fraud', 'Fraud']\n",
    "ax.set_title('Distribution')\n",
    "ax.set_xlabel('Fraud Not Fraud Count')\n",
    "ax.set_ylabel('Frequency')\n",
    "ax.set_xticklabels(name)\n",
    "plt.show()"
   ]
  },
  {
   "cell_type": "code",
   "execution_count": 257,
   "id": "05544dbb",
   "metadata": {},
   "outputs": [
    {
     "name": "stderr",
     "output_type": "stream",
     "text": [
      "<ipython-input-257-a0b6e3b879b0>:2: SettingWithCopyWarning: \n",
      "A value is trying to be set on a copy of a slice from a DataFrame.\n",
      "Try using .loc[row_indexer,col_indexer] = value instead\n",
      "\n",
      "See the caveats in the documentation: https://pandas.pydata.org/pandas-docs/stable/user_guide/indexing.html#returning-a-view-versus-a-copy\n",
      "  dataframe1['type2']=le.fit_transform(dataframe1['type'])\n"
     ]
    }
   ],
   "source": [
    "le=preprocessing.LabelEncoder()\n",
    "dataframe1['type2']=le.fit_transform(dataframe1['type'])\n",
    "del dataframe1['type']\n",
    "shuffled_df=dataframe1.sample(frac=1,random_state=4)\n",
    "fraud_df=shuffled_df.loc[shuffled_df['isFraud']==1]\n",
    "non_fraud_df=shuffled_df.loc[shuffled_df['isFraud']==0].sample(8212,random_state=4)\n",
    "normalized=pd.concat([fraud_df,non_fraud_df])"
   ]
  },
  {
   "cell_type": "code",
   "execution_count": 258,
   "id": "a105d748",
   "metadata": {},
   "outputs": [],
   "source": [
    "cnt2=(normalized['isFraud']==0).sum()\n",
    "cnt3=(normalized['isFraud']==1).sum()"
   ]
  },
  {
   "cell_type": "code",
   "execution_count": 259,
   "id": "8942c108",
   "metadata": {},
   "outputs": [
    {
     "data": {
      "image/png": "[encoded data removed]",
      "text/plain": [
       "<Figure size 864x576 with 1 Axes>"
      ]
     },
     "metadata": {
      "needs_background": "light"
     },
     "output_type": "display_data"
    }
   ],
   "source": [
    "somelist1=[cnt2,cnt3]\n",
    "freq_series1 = pd.Series(somelist1)\n",
    "plt.figure(figsize=(12, 8))\n",
    "ax = freq_series1.plot(kind='bar')\n",
    "name=['Not Fraud', 'Fraud']\n",
    "ax.set_title('Distribution')\n",
    "ax.set_xlabel('Fraud Not Fraud Count')\n",
    "ax.set_ylabel('Frequency')\n",
    "ax.set_xticklabels(name)\n",
    "plt.show()"
   ]
  },
  {
   "cell_type": "markdown",
   "id": "39d8511a",
   "metadata": {},
   "source": [
    "# ANN"
   ]
  },
  {
   "cell_type": "markdown",
   "id": "1d9923c3",
   "metadata": {},
   "source": [
    "An artificial neural network (ANN) is the component of artificial intelligence that is meant to simulate the functioning of a human brain. Processing units make up ANNs, which in turn consist of inputs and outputs. The inputs are what the ANN learns from to produce the desired output.\n",
    "Artificial neural networks (ANN) are used for modelling non-linear problems and to predict the output values for given input parameters from their training values."
   ]
  },
  {
   "cell_type": "code",
   "execution_count": 260,
   "id": "5310bb0d",
   "metadata": {},
   "outputs": [],
   "source": [
    "normalized1=normalized.sample(frac=1, random_state=4)\n",
    "X=normalized1.drop(['isFraud'], axis=1)\n",
    "Y=normalized1['isFraud']\n",
    "y3=Y.values.reshape(-1,1)\n",
    "st_sc = StandardScaler()\n",
    "X = st_sc.fit_transform(X)\n",
    "from sklearn.preprocessing import OneHotEncoder\n",
    "ohe=OneHotEncoder()\n",
    "Y1=ohe.fit_transform(y3).toarray()\n",
    "from sklearn.model_selection  import train_test_split\n",
    "x_train, x_test, y_train,y_test=train_test_split(X,Y1, test_size=0.2, random_state=1)"
   ]
  },
  {
   "cell_type": "code",
   "execution_count": 261,
   "id": "afc2fcd3",
   "metadata": {},
   "outputs": [
    {
     "name": "stdout",
     "output_type": "stream",
     "text": [
      "Model: \"sequential_2\"\n",
      "_________________________________________________________________\n",
      "Layer (type)                 Output Shape              Param #   \n",
      "=================================================================\n",
      "dense_10 (Dense)             (None, 64)                512       \n",
      "_________________________________________________________________\n",
      "dense_11 (Dense)             (None, 32)                2080      \n",
      "_________________________________________________________________\n",
      "dense_12 (Dense)             (None, 64)                2112      \n",
      "_________________________________________________________________\n",
      "dense_13 (Dense)             (None, 128)               8320      \n",
      "_________________________________________________________________\n",
      "dropout_2 (Dropout)          (None, 128)               0         \n",
      "_________________________________________________________________\n",
      "dense_14 (Dense)             (None, 2)                 258       \n",
      "=================================================================\n",
      "Total params: 13,282\n",
      "Trainable params: 13,282\n",
      "Non-trainable params: 0\n",
      "_________________________________________________________________\n"
     ]
    }
   ],
   "source": [
    "from sklearn.metrics import confusion_matrix\n",
    "from keras.models import Sequential\n",
    "from keras.layers import Dense, Activation, Dropout\n",
    "from keras.models import load_model\n",
    "model = Sequential()\n",
    "model.add(Dense(units = 64, input_dim = 7, activation = \"relu\"))\n",
    "model.add(Dense(units = 32, activation = \"relu\"))\n",
    "model.add(Dense(units = 64, activation = \"relu\"))\n",
    "model.add(Dense(units = 128, activation = \"relu\"))\n",
    "model.add(Dropout(0.3))\n",
    "model.add(Dense(units = 2, activation = \"sigmoid\"))\n",
    "model.compile(optimizer = \"adam\", loss = \"binary_crossentropy\", metrics = [\"accuracy\"])\n",
    "model.summary()"
   ]
  },
  {
   "cell_type": "code",
   "execution_count": 262,
   "id": "cdb07589",
   "metadata": {},
   "outputs": [
    {
     "name": "stdout",
     "output_type": "stream",
     "text": [
      "Epoch 1/10\n",
      "103/103 [==============================] - 0s 739us/step - loss: 0.4533 - accuracy: 0.8160\n",
      "Epoch 2/10\n",
      "103/103 [==============================] - 0s 713us/step - loss: 0.2336 - accuracy: 0.9034\n",
      "Epoch 3/10\n",
      "103/103 [==============================] - 0s 731us/step - loss: 0.1845 - accuracy: 0.9240\n",
      "Epoch 4/10\n",
      "103/103 [==============================] - 0s 727us/step - loss: 0.1646 - accuracy: 0.9303\n",
      "Epoch 5/10\n",
      "103/103 [==============================] - 0s 740us/step - loss: 0.1452 - accuracy: 0.9403\n",
      "Epoch 6/10\n",
      "103/103 [==============================] - 0s 746us/step - loss: 0.1349 - accuracy: 0.9447\n",
      "Epoch 7/10\n",
      "103/103 [==============================] - 0s 727us/step - loss: 0.1214 - accuracy: 0.9524\n",
      "Epoch 8/10\n",
      "103/103 [==============================] - 0s 756us/step - loss: 0.1147 - accuracy: 0.9562\n",
      "Epoch 9/10\n",
      "103/103 [==============================] - 0s 721us/step - loss: 0.1104 - accuracy: 0.9533\n",
      "Epoch 10/10\n",
      "103/103 [==============================] - 0s 733us/step - loss: 0.1085 - accuracy: 0.9555\n"
     ]
    },
    {
     "data": {
      "text/plain": [
       "<tensorflow.python.keras.callbacks.History at 0x1ada6d3dd30>"
      ]
     },
     "execution_count": 262,
     "metadata": {},
     "output_type": "execute_result"
    }
   ],
   "source": [
    "model.fit(x_train, y_train, batch_size = 128, epochs = 10, verbose=1)"
   ]
  },
  {
   "cell_type": "code",
   "execution_count": 263,
   "id": "cd2c378e",
   "metadata": {},
   "outputs": [
    {
     "name": "stdout",
     "output_type": "stream",
     "text": [
      "103/103 [==============================] - 0s 370us/step - loss: 0.0999 - accuracy: 0.9629\n",
      "0.9628614783287048\n"
     ]
    }
   ],
   "source": [
    "score = model.evaluate(x_test, y_test)\n",
    "print(score[1])"
   ]
  },
  {
   "cell_type": "code",
   "execution_count": 264,
   "id": "0443ccd2",
   "metadata": {},
   "outputs": [
    {
     "data": {
      "text/plain": [
       "array([[1, 0, 1, ..., 1, 1, 1]], dtype=int64)"
      ]
     },
     "execution_count": 264,
     "metadata": {},
     "output_type": "execute_result"
    }
   ],
   "source": [
    "scoring=model.predict(x_test)\n",
    "classes=model.predict_classes(x_test)\n",
    "classes.reshape(1,-1)"
   ]
  },
  {
   "cell_type": "code",
   "execution_count": 265,
   "id": "d4554f67",
   "metadata": {},
   "outputs": [],
   "source": [
    "somepredictions=model.predict(x_test)\n",
    "accdl=metrics.accuracy_score(y_test.argmax(axis=1), somepredictions.argmax(axis=1))\n",
    "accdl=accdl*100"
   ]
  },
  {
   "cell_type": "code",
   "execution_count": 266,
   "id": "82700765",
   "metadata": {},
   "outputs": [
    {
     "name": "stdout",
     "output_type": "stream",
     "text": [
      "                Predicted Not fraud  Predicted fraud\n",
      "True not fraud                 1632               57\n",
      "True fraud                       65             1531\n"
     ]
    }
   ],
   "source": [
    "CM_ANN = confusion_matrix(y_test.argmax(axis=1), somepredictions.argmax(axis=1))\n",
    "print(pd.DataFrame(\n",
    "   CM_ANN,\n",
    "    columns=['Predicted Not fraud', 'Predicted fraud'],\n",
    "    index=['True not fraud', 'True fraud']\n",
    "))"
   ]
  },
  {
   "cell_type": "code",
   "execution_count": 267,
   "id": "286d19d2",
   "metadata": {},
   "outputs": [
    {
     "name": "stdout",
     "output_type": "stream",
     "text": [
      "Number of valid transactions labelled as fraudulent by ANN: \n",
      " 57\n"
     ]
    }
   ],
   "source": [
    "ann01 = CM_ANN[0,1]\n",
    "print(\"Number of valid transactions labelled as fraudulent by ANN: \\n\", CM_ANN[0,1])"
   ]
  },
  {
   "cell_type": "code",
   "execution_count": 268,
   "id": "2d38f213",
   "metadata": {},
   "outputs": [
    {
     "name": "stdout",
     "output_type": "stream",
     "text": [
      "Number of fraud transactions labelled as valid by ANN: \n",
      " 65\n"
     ]
    }
   ],
   "source": [
    "ann10 = CM_ANN[1,0]\n",
    "print(\"Number of fraud transactions labelled as valid by ANN: \\n\", CM_ANN[1,0])"
   ]
  },
  {
   "cell_type": "markdown",
   "id": "7622f3c1",
   "metadata": {},
   "source": [
    "# KNN"
   ]
  },
  {
   "cell_type": "markdown",
   "id": "0d79f81c",
   "metadata": {},
   "source": [
    "The k-nearest neighbors (KNN) algorithm is a simple, supervised machine learning algorithm that can be used to solve both classification and regression problems. The purpose is to use a database in which the data points are separated into several classes to predict the classification of a new sample point. But has a major drawback of becoming significantly slows as the size of that data in use grows."
   ]
  },
  {
   "cell_type": "code",
   "execution_count": 269,
   "id": "54070b2d",
   "metadata": {},
   "outputs": [],
   "source": [
    "from sklearn.neighbors import KNeighborsClassifier\n",
    "from sklearn import metrics\n",
    "k_range=range(1,26)\n",
    "scores={}\n",
    "scores_list=[]\n",
    "\n",
    "for k in k_range:\n",
    "    knn=KNeighborsClassifier(n_neighbors=k)\n",
    "    knn.fit(x_train, y_train)\n",
    "    y_pred=knn.predict(x_test)\n",
    "    scores[k]=metrics.accuracy_score(y_test, y_pred)\n",
    "    scores_list.append(scores[k])"
   ]
  },
  {
   "cell_type": "code",
   "execution_count": 270,
   "id": "255e7f80",
   "metadata": {},
   "outputs": [
    {
     "data": {
      "text/plain": [
       "Text(0, 0.5, 'testing accuracy')"
      ]
     },
     "execution_count": 270,
     "metadata": {},
     "output_type": "execute_result"
    },
    {
     "data": {
      "image/png": "[encoded data removed]",
      "text/plain": [
       "<Figure size 432x288 with 1 Axes>"
      ]
     },
     "metadata": {
      "needs_background": "light"
     },
     "output_type": "display_data"
    }
   ],
   "source": [
    "plt.plot(k_range, scores_list)\n",
    "plt.xlabel(\"Value of KNN\")\n",
    "plt.ylabel(\"testing accuracy\")"
   ]
  },
  {
   "cell_type": "code",
   "execution_count": 271,
   "id": "fde6446c",
   "metadata": {},
   "outputs": [
    {
     "data": {
      "text/plain": [
       "4"
      ]
     },
     "execution_count": 271,
     "metadata": {},
     "output_type": "execute_result"
    }
   ],
   "source": [
    "scores_list.index(max(scores_list))"
   ]
  },
  {
   "cell_type": "code",
   "execution_count": 272,
   "id": "db9e709a",
   "metadata": {},
   "outputs": [],
   "source": [
    "knn1=KNeighborsClassifier(n_neighbors=4)\n",
    "knn1.fit(x_train, y_train)\n",
    "y_prediction2=knn1.predict(x_test)\n",
    "accknn=metrics.accuracy_score(y_test, y_prediction2)\n",
    "accknn=accknn*100"
   ]
  },
  {
   "cell_type": "code",
   "execution_count": 273,
   "id": "c8e37d0f",
   "metadata": {},
   "outputs": [
    {
     "name": "stdout",
     "output_type": "stream",
     "text": [
      "                Predicted Not fraud  Predicted fraud\n",
      "True not fraud                 1645               44\n",
      "True fraud                      138             1458\n"
     ]
    }
   ],
   "source": [
    "CM_KNN = confusion_matrix(y_test.argmax(axis=1), y_prediction2.argmax(axis=1))\n",
    "print(pd.DataFrame(\n",
    "    CM_KNN,\n",
    "    columns=['Predicted Not fraud', 'Predicted fraud'],\n",
    "    index=['True not fraud', 'True fraud']\n",
    "))"
   ]
  },
  {
   "cell_type": "code",
   "execution_count": 274,
   "id": "f118061b",
   "metadata": {},
   "outputs": [
    {
     "name": "stdout",
     "output_type": "stream",
     "text": [
      "0.9199391171993911\n"
     ]
    }
   ],
   "source": [
    "from sklearn import metrics\n",
    "print(metrics.accuracy_score(y_test,y_prediction2))"
   ]
  },
  {
   "cell_type": "code",
   "execution_count": 275,
   "id": "8c652910",
   "metadata": {},
   "outputs": [
    {
     "name": "stdout",
     "output_type": "stream",
     "text": [
      "Number of valid transactions labelled as fraudulent by KNN: \n",
      " 44\n"
     ]
    }
   ],
   "source": [
    "print(\"Number of valid transactions labelled as fraudulent by KNN: \\n\", CM_KNN[0,1])"
   ]
  },
  {
   "cell_type": "code",
   "execution_count": 276,
   "id": "6f0110c8",
   "metadata": {},
   "outputs": [
    {
     "name": "stdout",
     "output_type": "stream",
     "text": [
      "Number of fraud transactions labelled as valid by KNN: \n",
      " 138\n"
     ]
    }
   ],
   "source": [
    "print(\"Number of fraud transactions labelled as valid by KNN: \\n\", CM_KNN[1,0])"
   ]
  },
  {
   "cell_type": "markdown",
   "id": "d71aab78",
   "metadata": {},
   "source": [
    "# Decision Tree Classifier"
   ]
  },
  {
   "cell_type": "markdown",
   "id": "280ef099",
   "metadata": {},
   "source": [
    "A decision tree is a very specific type of probability tree that enables you to make a decision about some kind of process. Decision trees provide a way to present algorithms with conditional control statements. They include branches that represent decision-making steps that can lead to a favorable result."
   ]
  },
  {
   "cell_type": "code",
   "execution_count": 277,
   "id": "f23dc22c",
   "metadata": {},
   "outputs": [],
   "source": [
    "from sklearn import tree\n",
    "model = tree.DecisionTreeClassifier()\n",
    "model.fit(x_train, y_train)\n",
    "y_predict = model.predict(x_test)\n",
    "from sklearn.metrics import accuracy_score\n",
    "accdt=accuracy_score(y_test, y_predict)\n",
    "accdt=accdt*100"
   ]
  },
  {
   "cell_type": "code",
   "execution_count": 278,
   "id": "3fa86096",
   "metadata": {},
   "outputs": [
    {
     "name": "stdout",
     "output_type": "stream",
     "text": [
      "                Predicted Not fraud  Predicted fraud\n",
      "True not fraud                 1671               18\n",
      "True fraud                       12             1584\n"
     ]
    }
   ],
   "source": [
    "CM_DT = confusion_matrix(y_test.argmax(axis=1), y_predict.argmax(axis=1))\n",
    "print(pd.DataFrame(\n",
    "    CM_DT,\n",
    "    columns=['Predicted Not fraud', 'Predicted fraud'],\n",
    "    index=['True not fraud', 'True fraud']\n",
    "))"
   ]
  },
  {
   "cell_type": "code",
   "execution_count": 279,
   "id": "894ba382",
   "metadata": {},
   "outputs": [
    {
     "name": "stdout",
     "output_type": "stream",
     "text": [
      "0.9908675799086758\n"
     ]
    }
   ],
   "source": [
    "from sklearn import metrics\n",
    "print(metrics.accuracy_score(y_test,y_predict))"
   ]
  },
  {
   "cell_type": "code",
   "execution_count": 280,
   "id": "15d17ad0",
   "metadata": {},
   "outputs": [
    {
     "name": "stdout",
     "output_type": "stream",
     "text": [
      "Number of valid transactions labelled as fraudulent by Decision Tree Classifier: \n",
      " 18\n"
     ]
    }
   ],
   "source": [
    "dt01 =  CM_DT[0,1]\n",
    "print(\"Number of valid transactions labelled as fraudulent by Decision Tree Classifier: \\n\",dt01)"
   ]
  },
  {
   "cell_type": "code",
   "execution_count": 281,
   "id": "7214e3e6",
   "metadata": {},
   "outputs": [
    {
     "name": "stdout",
     "output_type": "stream",
     "text": [
      "Number of fraud transactions labelled as valid by Decision Tree Classifier: \n",
      " 12\n"
     ]
    }
   ],
   "source": [
    "dt10 = CM_DT[1,0]\n",
    "print(\"Number of fraud transactions labelled as valid by Decision Tree Classifier: \\n\", dt10)"
   ]
  },
  {
   "cell_type": "markdown",
   "id": "7db98108",
   "metadata": {},
   "source": [
    "# Logistic Regression"
   ]
  },
  {
   "cell_type": "markdown",
   "id": "83afbbd6",
   "metadata": {},
   "source": [
    "Logistic regression is a statistical model that in its basic form uses a logistic function to model a binary dependent variable, although many more complex extensions exist. Logistic regression analysis is used to examine the association of (categorical or continuous) independent variable(s) with one dichotomous dependent variable. This is in contrast to linear regression analysis in which the dependent variable is a continuous variable"
   ]
  },
  {
   "cell_type": "code",
   "execution_count": 282,
   "id": "961c11c6",
   "metadata": {},
   "outputs": [
    {
     "data": {
      "text/html": [
       "<div>\n",
       "<style scoped>\n",
       "    .dataframe tbody tr th:only-of-type {\n",
       "        vertical-align: middle;\n",
       "    }\n",
       "\n",
       "    .dataframe tbody tr th {\n",
       "        vertical-align: top;\n",
       "    }\n",
       "\n",
       "    .dataframe thead th {\n",
       "        text-align: right;\n",
       "    }\n",
       "</style>\n",
       "<table border=\"1\" class=\"dataframe\">\n",
       "  <thead>\n",
       "    <tr style=\"text-align: right;\">\n",
       "      <th></th>\n",
       "      <th>step</th>\n",
       "      <th>type</th>\n",
       "      <th>amount</th>\n",
       "      <th>oldbalanceOrg</th>\n",
       "      <th>newbalanceOrig</th>\n",
       "      <th>oldbalanceDest</th>\n",
       "      <th>newbalanceDest</th>\n",
       "      <th>isFraud</th>\n",
       "    </tr>\n",
       "  </thead>\n",
       "  <tbody>\n",
       "    <tr>\n",
       "      <th>0</th>\n",
       "      <td>1</td>\n",
       "      <td>PAYMENT</td>\n",
       "      <td>9839.64</td>\n",
       "      <td>170136.0</td>\n",
       "      <td>160296.36</td>\n",
       "      <td>0.0</td>\n",
       "      <td>0.0</td>\n",
       "      <td>0</td>\n",
       "    </tr>\n",
       "    <tr>\n",
       "      <th>1</th>\n",
       "      <td>1</td>\n",
       "      <td>PAYMENT</td>\n",
       "      <td>1864.28</td>\n",
       "      <td>21249.0</td>\n",
       "      <td>19384.72</td>\n",
       "      <td>0.0</td>\n",
       "      <td>0.0</td>\n",
       "      <td>0</td>\n",
       "    </tr>\n",
       "    <tr>\n",
       "      <th>2</th>\n",
       "      <td>1</td>\n",
       "      <td>TRANSFER</td>\n",
       "      <td>181.00</td>\n",
       "      <td>181.0</td>\n",
       "      <td>0.00</td>\n",
       "      <td>0.0</td>\n",
       "      <td>0.0</td>\n",
       "      <td>1</td>\n",
       "    </tr>\n",
       "    <tr>\n",
       "      <th>3</th>\n",
       "      <td>1</td>\n",
       "      <td>CASH_OUT</td>\n",
       "      <td>181.00</td>\n",
       "      <td>181.0</td>\n",
       "      <td>0.00</td>\n",
       "      <td>21182.0</td>\n",
       "      <td>0.0</td>\n",
       "      <td>1</td>\n",
       "    </tr>\n",
       "    <tr>\n",
       "      <th>4</th>\n",
       "      <td>1</td>\n",
       "      <td>PAYMENT</td>\n",
       "      <td>11668.14</td>\n",
       "      <td>41554.0</td>\n",
       "      <td>29885.86</td>\n",
       "      <td>0.0</td>\n",
       "      <td>0.0</td>\n",
       "      <td>0</td>\n",
       "    </tr>\n",
       "  </tbody>\n",
       "</table>\n",
       "</div>"
      ],
      "text/plain": [
       "   step      type    amount  oldbalanceOrg  newbalanceOrig  oldbalanceDest  \\\n",
       "0     1   PAYMENT   9839.64       170136.0       160296.36             0.0   \n",
       "1     1   PAYMENT   1864.28        21249.0        19384.72             0.0   \n",
       "2     1  TRANSFER    181.00          181.0            0.00             0.0   \n",
       "3     1  CASH_OUT    181.00          181.0            0.00         21182.0   \n",
       "4     1   PAYMENT  11668.14        41554.0        29885.86             0.0   \n",
       "\n",
       "   newbalanceDest  isFraud  \n",
       "0             0.0        0  \n",
       "1             0.0        0  \n",
       "2             0.0        1  \n",
       "3             0.0        1  \n",
       "4             0.0        0  "
      ]
     },
     "execution_count": 282,
     "metadata": {},
     "output_type": "execute_result"
    }
   ],
   "source": [
    "dataframe.head()"
   ]
  },
  {
   "cell_type": "code",
   "execution_count": 283,
   "id": "3712056f",
   "metadata": {},
   "outputs": [
    {
     "data": {
      "text/plain": [
       "6362620"
      ]
     },
     "execution_count": 283,
     "metadata": {},
     "output_type": "execute_result"
    }
   ],
   "source": [
    "meta_data = pd.read_csv(\"PS_20174392719_1491204439457_log.csv\")\n",
    "del meta_data['nameDest']\n",
    "del meta_data['nameOrig']\n",
    "del meta_data['type']\n",
    "len(meta_data)"
   ]
  },
  {
   "cell_type": "code",
   "execution_count": 284,
   "id": "35c70a9a",
   "metadata": {},
   "outputs": [],
   "source": [
    "Cols = meta_data[['step','amount','oldbalanceOrg','newbalanceOrig','oldbalanceDest','newbalanceDest','isFlaggedFraud']]\n",
    "y = meta_data['isFraud']\n",
    "X = Cols"
   ]
  },
  {
   "cell_type": "code",
   "execution_count": 285,
   "id": "1c59b304",
   "metadata": {},
   "outputs": [],
   "source": [
    "\n",
    "from sklearn.model_selection import train_test_split\n",
    "\n",
    "X_train, X_test, y_train, y_test = train_test_split(X, y, test_size=0.3, random_state=42) "
   ]
  },
  {
   "cell_type": "code",
   "execution_count": 286,
   "id": "b58f7636",
   "metadata": {},
   "outputs": [
    {
     "name": "stdout",
     "output_type": "stream",
     "text": [
      "              precision    recall  f1-score   support\n",
      "\n",
      "           0       1.00      1.00      1.00   1906351\n",
      "           1       0.37      0.43      0.40      2435\n",
      "\n",
      "    accuracy                           1.00   1908786\n",
      "   macro avg       0.68      0.72      0.70   1908786\n",
      "weighted avg       1.00      1.00      1.00   1908786\n",
      "\n",
      "[[1904535    1816]\n",
      " [   1380    1055]]\n"
     ]
    },
    {
     "data": {
      "text/plain": [
       "0.9983256373422689"
      ]
     },
     "execution_count": 286,
     "metadata": {},
     "output_type": "execute_result"
    }
   ],
   "source": [
    "from sklearn.metrics import classification_report, confusion_matrix\n",
    "from sklearn import linear_model\n",
    "logitic = linear_model.LogisticRegression()\n",
    "model = logitic.fit(X_train,y_train)\n",
    "predictions = model.predict(X_test)\n",
    "CM_LR = confusion_matrix(y_test, predictions)\n",
    "print(classification_report(y_test,predictions))\n",
    "print(confusion_matrix(y_test, predictions))\n",
    "\n",
    "\n",
    "from sklearn.metrics import accuracy_score\n",
    "acclg = accuracy_score(y_test,predictions)\n",
    "acclg = acclg*100\n",
    "accuracy_score(y_test,predictions)"
   ]
  },
  {
   "cell_type": "code",
   "execution_count": 287,
   "id": "58da52b8",
   "metadata": {},
   "outputs": [
    {
     "name": "stdout",
     "output_type": "stream",
     "text": [
      "Number of valid transactions labelled as fraudulent by Logistic Regression: \n",
      " 1816\n"
     ]
    }
   ],
   "source": [
    "lr01 = CM_LR[0,1]\n",
    "print(\"Number of valid transactions labelled as fraudulent by Logistic Regression: \\n\", lr01)"
   ]
  },
  {
   "cell_type": "code",
   "execution_count": 288,
   "id": "52d295e7",
   "metadata": {},
   "outputs": [
    {
     "name": "stdout",
     "output_type": "stream",
     "text": [
      "Number of fraud transactions labelled as valid by Logistic Regression: \n",
      " 1380\n"
     ]
    }
   ],
   "source": [
    "lr10 = CM_LR[1,0]\n",
    "print(\"Number of fraud transactions labelled as valid by Logistic Regression: \\n\", CM_LR[1,0])"
   ]
  },
  {
   "cell_type": "markdown",
   "id": "2ad512c4",
   "metadata": {},
   "source": [
    "# NAIVE BAYES"
   ]
  },
  {
   "cell_type": "markdown",
   "id": "2ab46d7d",
   "metadata": {},
   "source": [
    "Naive Bayes is a kind of classifier which uses the Bayes Theorem. It predicts membership probabilities for each class such as the probability that given record or data point belongs to a particular class. The class with the highest probability is considered as the most likely class."
   ]
  },
  {
   "cell_type": "code",
   "execution_count": 289,
   "id": "caf8b835",
   "metadata": {},
   "outputs": [
    {
     "name": "stdout",
     "output_type": "stream",
     "text": [
      "              precision    recall  f1-score   support\n",
      "\n",
      "           0       1.00      0.99      1.00   1906351\n",
      "           1       0.03      0.16      0.05      2435\n",
      "\n",
      "    accuracy                           0.99   1908786\n",
      "   macro avg       0.51      0.58      0.52   1908786\n",
      "weighted avg       1.00      0.99      0.99   1908786\n",
      "\n",
      "[[1893838   12513]\n",
      " [   2043     392]]\n"
     ]
    },
    {
     "data": {
      "text/plain": [
       "0.9923742106239254"
      ]
     },
     "execution_count": 289,
     "metadata": {},
     "output_type": "execute_result"
    }
   ],
   "source": [
    "from sklearn.naive_bayes import GaussianNB\n",
    "gnb = GaussianNB()\n",
    "model = gnb.fit(X_train,y_train)\n",
    "predictions = model.predict(X_test)\n",
    "CM_NB = confusion_matrix(y_test, predictions)\n",
    "print(classification_report(y_test,predictions))\n",
    "print(confusion_matrix(y_test, predictions))\n",
    "accnb = accuracy_score(y_test,predictions)\n",
    "accnb = accnb*100\n",
    "accuracy_score(y_test,predictions)"
   ]
  },
  {
   "cell_type": "code",
   "execution_count": 290,
   "id": "bacf687a",
   "metadata": {},
   "outputs": [
    {
     "name": "stdout",
     "output_type": "stream",
     "text": [
      "Number of valid transactions labelled as fraudulent by Naive Bayes: \n",
      " 12513\n"
     ]
    }
   ],
   "source": [
    "nb01 = CM_NB[0,1]\n",
    "print(\"Number of valid transactions labelled as fraudulent by Naive Bayes: \\n\",nb01) "
   ]
  },
  {
   "cell_type": "code",
   "execution_count": 291,
   "id": "7b8d7282",
   "metadata": {},
   "outputs": [
    {
     "name": "stdout",
     "output_type": "stream",
     "text": [
      "Number of fraud transactions labelled as valid by Naive Bayes: \n",
      " 2043\n"
     ]
    }
   ],
   "source": [
    "nb10 = CM_NB[1,0]\n",
    "print(\"Number of fraud transactions labelled as valid by Naive Bayes: \\n\", CM_NB[1,0])"
   ]
  },
  {
   "cell_type": "markdown",
   "id": "f98ab13a",
   "metadata": {},
   "source": [
    "# Import Multi input Tensorflow"
   ]
  },
  {
   "cell_type": "code",
   "execution_count": 292,
   "id": "2177b066",
   "metadata": {},
   "outputs": [],
   "source": [
    "%store -r acctf"
   ]
  },
  {
   "cell_type": "code",
   "execution_count": 293,
   "id": "fa1ee775",
   "metadata": {},
   "outputs": [
    {
     "name": "stdout",
     "output_type": "stream",
     "text": [
      "99.72000122070312\n"
     ]
    }
   ],
   "source": [
    "print(acctf)"
   ]
  },
  {
   "cell_type": "code",
   "execution_count": 294,
   "id": "2cc7d482",
   "metadata": {},
   "outputs": [],
   "source": [
    "%store -r tf01\n",
    "%store -r tf10"
   ]
  },
  {
   "cell_type": "markdown",
   "id": "84a0d694",
   "metadata": {},
   "source": [
    "# Import RandomForest and XGBoost"
   ]
  },
  {
   "cell_type": "code",
   "execution_count": 295,
   "id": "c3df5b94",
   "metadata": {},
   "outputs": [],
   "source": [
    "%store -r accuracyRF"
   ]
  },
  {
   "cell_type": "code",
   "execution_count": 296,
   "id": "064902f6",
   "metadata": {},
   "outputs": [],
   "source": [
    "accuracyRF =accuracyRF*100"
   ]
  },
  {
   "cell_type": "code",
   "execution_count": 297,
   "id": "07f3fa8f",
   "metadata": {},
   "outputs": [
    {
     "name": "stdout",
     "output_type": "stream",
     "text": [
      "99.99783425714298\n"
     ]
    }
   ],
   "source": [
    "print(accuracyRF)"
   ]
  },
  {
   "cell_type": "code",
   "execution_count": 298,
   "id": "54ca33e1",
   "metadata": {},
   "outputs": [],
   "source": [
    "%store -r accuracyXGB"
   ]
  },
  {
   "cell_type": "code",
   "execution_count": 299,
   "id": "c84b168d",
   "metadata": {},
   "outputs": [],
   "source": [
    "accuracyXGB1 = accuracyXGB*100"
   ]
  },
  {
   "cell_type": "code",
   "execution_count": 300,
   "id": "0ce43c6a",
   "metadata": {},
   "outputs": [
    {
     "name": "stdout",
     "output_type": "stream",
     "text": [
      "99.99783425714298\n"
     ]
    }
   ],
   "source": [
    "print(accuracyXGB1)"
   ]
  },
  {
   "cell_type": "code",
   "execution_count": 301,
   "id": "fdad4cca",
   "metadata": {},
   "outputs": [],
   "source": [
    "%store -r rf01\n",
    "%store -r rf10\n",
    "%store -r xgb01\n",
    "%store -r xgb10"
   ]
  },
  {
   "cell_type": "markdown",
   "id": "dd05eece",
   "metadata": {},
   "source": [
    "# Comparision of Accuracy Score"
   ]
  },
  {
   "cell_type": "code",
   "execution_count": 302,
   "id": "61c7aed7",
   "metadata": {},
   "outputs": [
    {
     "data": {
      "image/png": "[encoded data removed]",
      "text/plain": [
       "<Figure size 864x576 with 1 Axes>"
      ]
     },
     "metadata": {
      "needs_background": "light"
     },
     "output_type": "display_data"
    }
   ],
   "source": [
    "acc_list=[accdl,accknn,accdt,acclg,accnb,acctf,accuracyRF,accuracyXGB1]\n",
    "ac_score1 = pd.Series(acc_list)\n",
    "plt.figure(figsize=(12,8))\n",
    "\n",
    "name=['DL', 'KNN', 'DTree' , 'LogisticRegression' , 'Naive Bayes' ,'Multi-Input TensorFlow' , 'RandomForest' , ' XGBoost']\n",
    "plt.plot(name,ac_score1)\n",
    "ax.set_title('Comparison')\n",
    "ax.set_ylabel('score')\n",
    "ax.set_xlabel('ANN vs KNN vs Decision Trees vs Logistic Regression vs Naive Bayes vs Multi-Input TensorFlow vs RandomForest vs  XGBoost')\n",
    "plt.show()"
   ]
  },
  {
   "cell_type": "code",
   "execution_count": 303,
   "id": "d92e7d2b",
   "metadata": {},
   "outputs": [
    {
     "data": {
      "image/png": "[encoded data removed]",
      "text/plain": [
       "<Figure size 864x576 with 1 Axes>"
      ]
     },
     "metadata": {
      "needs_background": "light"
     },
     "output_type": "display_data"
    }
   ],
   "source": [
    "acc_list=[accdl,accknn,accdt,acclg,accnb,acctf,accuracyRF,accuracyXGB1]\n",
    "ac_score1 = pd.Series(acc_list)\n",
    "plt.figure(figsize=(12, 8))\n",
    "ax = ac_score1.plot(kind='bar')\n",
    "name=['DL', 'KNN', 'DTree' , 'LogisticRegression' , 'Naive Bayes' ,'Multi-Input TensorFlow' , 'RandomForest' , ' XGBoost']\n",
    "ax.set_title('Comparison')\n",
    "ax.set_xlabel('ANN vs KNN vs Decision Trees vs Logistic Regression vs Naive Bayes vs Multi-Input TensorFlow vs RandomForest vs  XGBoost')\n",
    "ax.set_ylabel('Score')\n",
    "ax.set_xticklabels(name)\n",
    "plt.show()"
   ]
  },
  {
   "cell_type": "markdown",
   "id": "b8810a67",
   "metadata": {},
   "source": [
    "# Comparision of Number of valid transactions labelled as fraudulent"
   ]
  },
  {
   "cell_type": "code",
   "execution_count": 304,
   "id": "3c65bc54",
   "metadata": {},
   "outputs": [
    {
     "data": {
      "image/png": "[encoded data removed]",
      "text/plain": [
       "<Figure size 864x576 with 1 Axes>"
      ]
     },
     "metadata": {
      "needs_background": "light"
     },
     "output_type": "display_data"
    }
   ],
   "source": [
    "acc_list=[ann01,dt01,lr01,nb01,rf01,xgb01,tf01]\n",
    "ac_score1 = pd.Series(acc_list)\n",
    "plt.figure(figsize=(12, 8))\n",
    "ax = ac_score1.plot(kind='bar')\n",
    "name=[ 'Ann','DTree' , 'LogisticRegression' , 'Naive Bayes','RandomForest','XG Boost','Multi-input TensorFlow']\n",
    "ax.set_title('Comparison')\n",
    "ax.set_xlabel('ANN vs Decision Trees vs Logistic Regression vs Naive Bayes vs RandomForest vs XG Boost vs Multi-input TensorFlow')\n",
    "ax.set_ylabel('Score')\n",
    "ax.set_xticklabels(name)\n",
    "plt.show()"
   ]
  },
  {
   "cell_type": "code",
   "execution_count": 306,
   "id": "640df766",
   "metadata": {},
   "outputs": [
    {
     "data": {
      "image/png": "[encoded data removed]",
      "text/plain": [
       "<Figure size 864x576 with 1 Axes>"
      ]
     },
     "metadata": {
      "needs_background": "light"
     },
     "output_type": "display_data"
    }
   ],
   "source": [
    "acc_list=[ann01,dt01,rf01,xgb01,tf01]\n",
    "ac_score1 = pd.Series(acc_list)\n",
    "plt.figure(figsize=(12, 8))\n",
    "ax = ac_score1.plot(kind='bar')\n",
    "name=[ 'ANN','DTree' ,'RandomForest','XG Boost','Multi-input TensorFlow']\n",
    "ax.set_title('Comparison')\n",
    "ax.set_xlabel('ANN vs Decision Trees vs Logistic Regression vs Naive Bayes vs RandomForest vs XG Boost vs Multi-input TensorFlow')\n",
    "ax.set_ylabel('Score')\n",
    "ax.set_xticklabels(name)\n",
    "plt.show()"
   ]
  },
  {
   "cell_type": "markdown",
   "id": "48af4dcb",
   "metadata": {},
   "source": [
    "# Comparision of Number of Fraud transactions labelled as valid"
   ]
  },
  {
   "cell_type": "code",
   "execution_count": 307,
   "id": "a2f08d64",
   "metadata": {},
   "outputs": [
    {
     "data": {
      "image/png": "[encoded data removed]",
      "text/plain": [
       "<Figure size 864x576 with 1 Axes>"
      ]
     },
     "metadata": {
      "needs_background": "light"
     },
     "output_type": "display_data"
    }
   ],
   "source": [
    "acc_list=[ann10,dt10,lr10,nb10,rf10,xgb10,tf10]\n",
    "ac_score1 = pd.Series(acc_list)\n",
    "plt.figure(figsize=(12, 8))\n",
    "ax = ac_score1.plot(kind='bar')\n",
    "name=['ANN', 'DTree' , 'LogisticRegression' , 'Naive Bayes','RandomForest','XG Boost', 'Multi-input TensorFlow']\n",
    "ax.set_title('Comparison')\n",
    "ax.set_xlabel('ANN vs  Decision Trees vs RandomForest vs XG Boost vs Multi-input TensorFlow')\n",
    "ax.set_ylabel('Score')\n",
    "ax.set_xticklabels(name)\n",
    "plt.show()"
   ]
  },
  {
   "cell_type": "code",
   "execution_count": 308,
   "id": "45d07e7d",
   "metadata": {},
   "outputs": [
    {
     "data": {
      "image/png": "[encoded data removed]",
      "text/plain": [
       "<Figure size 864x576 with 1 Axes>"
      ]
     },
     "metadata": {
      "needs_background": "light"
     },
     "output_type": "display_data"
    }
   ],
   "source": [
    "acc_list=[ann10,dt10,rf10,xgb10,tf10]\n",
    "ac_score1 = pd.Series(acc_list)\n",
    "plt.figure(figsize=(12, 8))\n",
    "ax = ac_score1.plot(kind='bar')\n",
    "name=[ 'ANN','DTree','RandomForest','XG Boost', 'Multi-input TensorFlow']\n",
    "ax.set_title('Comparison')\n",
    "ax.set_xlabel(' ANN vs Decision Trees vs Logistic Regression vs Naive Bayes vs RandomForest vs XG Boost vs Multi-input TensorFlow')\n",
    "ax.set_ylabel('Score')\n",
    "ax.set_xticklabels(name)\n",
    "plt.show()"
   ]
  },
  {
   "cell_type": "markdown",
   "id": "aa76bf4f",
   "metadata": {},
   "source": [
    "# Conclusion"
   ]
  },
  {
   "cell_type": "markdown",
   "id": "e37aacd3",
   "metadata": {},
   "source": [
    "Based purely on the results on the confusion matrix, the better model is decided by which model incurs the lowest costs.\n",
    "\n",
    "If the combined cost of mislabelling over 100 more valid transactions as fraudulent exceeds the cost of mislabelling a few more\n",
    "fraudulent transactions as valid,\n",
    "Hence the random forest would be a better model."
   ]
  }
 ],
 "metadata": {
  "kernelspec": {
   "display_name": "Python 3",
   "language": "python",
   "name": "python3"
  },
  "language_info": {
   "codemirror_mode": {
    "name": "ipython",
    "version": 3
   },
   "file_extension": ".py",
   "mimetype": "text/x-python",
   "name": "python",
   "nbconvert_exporter": "python",
   "pygments_lexer": "ipython3",
   "version": "3.8.8"
  }
 },
 "nbformat": 4,
 "nbformat_minor": 5
}
